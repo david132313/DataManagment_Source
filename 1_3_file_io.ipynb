{
  "cells": [
    {
      "cell_type": "markdown",
      "metadata": {
        "id": "view-in-github",
        "colab_type": "text"
      },
      "source": [
        "<a href=\"https://colab.research.google.com/github/david132313/DataManagment_Source/blob/main/1_3_file_io.ipynb\" target=\"_parent\"><img src=\"https://colab.research.google.com/assets/colab-badge.svg\" alt=\"Open In Colab\"/></a>"
      ]
    },
    {
      "cell_type": "markdown",
      "metadata": {
        "id": "EfZYAV_HpDXh"
      },
      "source": [
        "## Reading Files, File I/O\n",
        "\n",
        "### Use built-in function open\n",
        "\n",
        "`open` has 2 arguments:\n",
        "\n",
        "* the file_name, which is the absolute or relative path to open\n",
        "* the mode, which a single character: r, w, a\n",
        "    * `r`: file must exist, otherwise FileNotFoundError\n",
        "    * `w`: if exists, overwrite, if it doesn't, create\n",
        "    * `a`: append.... add to existing file\n",
        "\n",
        "returns: a`file` object\n",
        "\n",
        "a file object has following methods:\n",
        "* `close`... closes the file handle, no args\n",
        "* `read`... entire contents and returns as a single string\n",
        "* `readlines`... entire contents and returns as list of strings, one per line\n",
        "* `readline`... one line at a time, location saved\n"
      ]
    },
    {
      "cell_type": "markdown",
      "metadata": {
        "id": "wd3AEembpDXl"
      },
      "source": [
        "### Reading a file\n",
        "\n",
        "File object can be looped over using `for`:"
      ]
    },
    {
      "cell_type": "code",
      "source": [
        "from google.colab import drive\n",
        "drive.mount('/content/drive')"
      ],
      "metadata": {
        "id": "whbKDKERpg0M",
        "outputId": "1fba6950-1702-402f-e3d7-149fde29fe62",
        "colab": {
          "base_uri": "https://localhost:8080/"
        }
      },
      "execution_count": null,
      "outputs": [
        {
          "output_type": "stream",
          "name": "stdout",
          "text": [
            "Mounted at /content/drive\n"
          ]
        }
      ]
    },
    {
      "cell_type": "code",
      "execution_count": null,
      "metadata": {
        "colab": {
          "base_uri": "https://localhost:8080/"
        },
        "id": "TgN92QhcpDXl",
        "outputId": "67b5940f-9bde-40e2-a0dd-43ca7a93826d"
      },
      "outputs": [
        {
          "output_type": "stream",
          "name": "stdout",
          "text": [
            "The one-l lama,\n",
            "He's a priest.\n",
            "The two-l llama,\n",
            "He's a beast;\n",
            "And I will bet \n",
            "A silk pajama\n",
            "There isn't any \n",
            "Three-l lllama."
          ]
        }
      ],
      "source": [
        "fn='/content/drive/My Drive/DataManagement/data_files/llama.txt'\n",
        "f = open(fn, 'r')\n",
        "for line in f:\n",
        "    print(line,end='')  # end='\\n'\n",
        "f.close()"
      ]
    },
    {
      "cell_type": "markdown",
      "metadata": {
        "id": "_Y8ELHMtpDXo"
      },
      "source": [
        "### Using `with` and Using `readlines`\n",
        "\n",
        "Now let's try using `with`... when the block exits, the file object is automatically cleaned up (`close` is called)\n",
        "\n",
        "Additionally, we'll use `readlines` to read the contents of the file as a `list`"
      ]
    },
    {
      "cell_type": "code",
      "execution_count": null,
      "metadata": {
        "colab": {
          "base_uri": "https://localhost:8080/"
        },
        "id": "qkMvefn-pDXo",
        "outputId": "b22596f1-6398-458d-af75-9391f0027f80"
      },
      "outputs": [
        {
          "output_type": "stream",
          "name": "stdout",
          "text": [
            "The one-l lama,\n",
            "\n"
          ]
        }
      ],
      "source": [
        "with open(fn, 'r') as f:\n",
        "    lines = f.readlines()\n",
        "    print(lines[0])"
      ]
    },
    {
      "cell_type": "code",
      "execution_count": null,
      "metadata": {
        "id": "KplvxJbvpDXp",
        "outputId": "89298532-bd50-4dfc-c22f-3d760486f929",
        "colab": {
          "base_uri": "https://localhost:8080/"
        }
      },
      "outputs": [
        {
          "output_type": "execute_result",
          "data": {
            "text/plain": [
              "['The one-l lama,\\n',\n",
              " \"He's a priest.\\n\",\n",
              " 'The two-l llama,\\n',\n",
              " \"He's a beast;\\n\",\n",
              " 'And I will bet \\n',\n",
              " 'A silk pajama\\n',\n",
              " \"There isn't any \\n\",\n",
              " 'Three-l lllama.']"
            ]
          },
          "metadata": {},
          "execution_count": 4
        }
      ],
      "source": [
        "lines"
      ]
    },
    {
      "cell_type": "markdown",
      "metadata": {
        "id": "T8ArK5t6pDXp"
      },
      "source": [
        "Or just as a single string (including the newlines):\n"
      ]
    },
    {
      "cell_type": "code",
      "execution_count": null,
      "metadata": {
        "colab": {
          "base_uri": "https://localhost:8080/"
        },
        "id": "uIE1D1jHpDXq",
        "outputId": "fbd9595c-4f0c-424b-b195-0ac5e05089f5"
      },
      "outputs": [
        {
          "output_type": "stream",
          "name": "stdout",
          "text": [
            "The one-l lama,\n",
            "He's a priest.\n",
            "The two-l llama,\n",
            "He's a beast;\n",
            "And I will bet \n",
            "A silk pajama\n",
            "There isn't any \n",
            "Three-l lllama.\n"
          ]
        }
      ],
      "source": [
        "f=open(fn,'r')\n",
        "whole_file=f.read()\n",
        "print(whole_file)"
      ]
    },
    {
      "cell_type": "code",
      "execution_count": null,
      "metadata": {
        "colab": {
          "base_uri": "https://localhost:8080/"
        },
        "id": "CzyRRbh4pDXq",
        "outputId": "d1862201-38ac-4bb4-8011-8079cab5996d"
      },
      "outputs": [
        {
          "output_type": "stream",
          "name": "stdout",
          "text": [
            "['The one-l lama,', \"He's a priest.\", 'The two-l llama,', \"He's a beast;\", 'And I will bet ', 'A silk pajama', \"There isn't any \", 'Three-l lllama.']\n"
          ]
        }
      ],
      "source": [
        "lines=whole_file.splitlines()\n",
        "print(lines)"
      ]
    },
    {
      "cell_type": "code",
      "execution_count": null,
      "metadata": {
        "colab": {
          "base_uri": "https://localhost:8080/",
          "height": 35
        },
        "id": "c2zG5mTdpDXr",
        "outputId": "07de8b57-8c66-4da9-8dfb-9523a3637b63"
      },
      "outputs": [
        {
          "output_type": "execute_result",
          "data": {
            "text/plain": [
              "'beast'"
            ],
            "application/vnd.google.colaboratory.intrinsic+json": {
              "type": "string"
            }
          },
          "metadata": {},
          "execution_count": 7
        }
      ],
      "source": [
        "lines[3][-6:-1]"
      ]
    },
    {
      "cell_type": "code",
      "execution_count": null,
      "metadata": {
        "id": "a54XhKFwpDXr",
        "outputId": "028f64cd-c8b1-441e-c079-678c19b42353",
        "colab": {
          "base_uri": "https://localhost:8080/"
        }
      },
      "outputs": [
        {
          "output_type": "execute_result",
          "data": {
            "text/plain": [
              "['The', 'two-l', 'llama,']"
            ]
          },
          "metadata": {},
          "execution_count": 8
        }
      ],
      "source": [
        "lines[2].split()"
      ]
    },
    {
      "cell_type": "code",
      "execution_count": null,
      "metadata": {
        "colab": {
          "base_uri": "https://localhost:8080/",
          "height": 35
        },
        "id": "X3p00zL3pDXs",
        "outputId": "17bfc888-1567-4e16-9543-dff79a760ce8"
      },
      "outputs": [
        {
          "output_type": "execute_result",
          "data": {
            "text/plain": [
              "'will'"
            ],
            "application/vnd.google.colaboratory.intrinsic+json": {
              "type": "string"
            }
          },
          "metadata": {},
          "execution_count": 9
        }
      ],
      "source": [
        "lines[4].split()[-2]"
      ]
    },
    {
      "cell_type": "markdown",
      "metadata": {
        "id": "4fTFan-8pDXs"
      },
      "source": [
        "### Handling Exceptions\n",
        "\n",
        "Catch a `FileNotFoundError` to deal with a file that doesn't exist:"
      ]
    },
    {
      "cell_type": "code",
      "execution_count": null,
      "metadata": {
        "colab": {
          "base_uri": "https://localhost:8080/"
        },
        "id": "19kqtGeZpDXs",
        "outputId": "e5997fd7-5099-433e-9208-f48713dff118"
      },
      "outputs": [
        {
          "output_type": "stream",
          "name": "stdout",
          "text": [
            "file not found!\n"
          ]
        }
      ],
      "source": [
        "try:\n",
        "    with open('foo.bar', 'r') as f:\n",
        "        print(f.read())\n",
        "except FileNotFoundError:\n",
        "    print('file not found!')"
      ]
    },
    {
      "cell_type": "markdown",
      "source": [
        "**Question**\n",
        "\n",
        "The Python readlines method on a file handle:\n",
        "\n",
        "\n",
        "1.   Reads all of the lines in the file into a single string, not including the newlines\n",
        "2.   Reads all of the lines in the file into a list of strings, not including the newlines\n",
        "3. Reads all of the lines in the file into a list of strings, including the newlines\n",
        "\n"
      ],
      "metadata": {
        "id": "WWC4FK-X1DFM"
      }
    }
  ],
  "metadata": {
    "kernelspec": {
      "display_name": "Python 3",
      "language": "python",
      "name": "python3"
    },
    "language_info": {
      "codemirror_mode": {
        "name": "ipython",
        "version": 3
      },
      "file_extension": ".py",
      "mimetype": "text/x-python",
      "name": "python",
      "nbconvert_exporter": "python",
      "pygments_lexer": "ipython3",
      "version": "3.8.5"
    },
    "colab": {
      "provenance": [],
      "include_colab_link": true
    }
  },
  "nbformat": 4,
  "nbformat_minor": 0
}