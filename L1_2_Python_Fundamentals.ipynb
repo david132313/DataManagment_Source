{
  "cells": [
    {
      "cell_type": "markdown",
      "metadata": {
        "id": "view-in-github",
        "colab_type": "text"
      },
      "source": [
        "<a href=\"https://colab.research.google.com/github/david132313/DataManagment_Source/blob/main/L1_2_Python_Fundamentals.ipynb\" target=\"_parent\"><img src=\"https://colab.research.google.com/assets/colab-badge.svg\" alt=\"Open In Colab\"/></a>"
      ]
    },
    {
      "cell_type": "markdown",
      "metadata": {
        "id": "t9nkbw5Mbuju"
      },
      "source": [
        "# Some Python Fundamentals"
      ]
    },
    {
      "cell_type": "markdown",
      "metadata": {
        "id": "qCzZhq87SyHD"
      },
      "source": [
        "# A Neat \"Pythonic\" Sorting Program\n",
        "\n",
        "This program for Quicksort is borrowed from [this tutorial](https://cs231n.github.io/python-numpy-tutorial/).\n",
        "\n",
        "I think it nicely illustrates the power of Python.\n",
        "\n",
        "How do you think it works?"
      ]
    },
    {
      "cell_type": "code",
      "execution_count": null,
      "metadata": {
        "colab": {
          "base_uri": "https://localhost:8080/"
        },
        "id": "qSjqyekdSsdW",
        "outputId": "4989ec24-d97a-4eed-f8bf-7f70d01eb971"
      },
      "outputs": [
        {
          "output_type": "stream",
          "name": "stdout",
          "text": [
            "[1, 1, 2, 3, 6, 8, 10]\n"
          ]
        }
      ],
      "source": [
        "def quicksort(arr):\n",
        "    if len(arr) <= 1:\n",
        "        return arr\n",
        "    pivot = arr[len(arr) // 2]\n",
        "    left = [x for x in arr if x < pivot]\n",
        "    middle = [x for x in arr if x == pivot]\n",
        "    right = [x for x in arr if x > pivot]\n",
        "    return quicksort(left) + middle + quicksort(right)\n",
        "\n",
        "print(quicksort([3,6,8,10,1,2,1]))"
      ]
    },
    {
      "cell_type": "markdown",
      "metadata": {
        "id": "7yd6U1-lTYBZ"
      },
      "source": [
        "## Assignment and Operators\n",
        "\n",
        "Python variables can have alphanumeric characters and the underscore; they must begin with an alphabetic character or an underscore."
      ]
    },
    {
      "cell_type": "code",
      "execution_count": null,
      "metadata": {
        "id": "tu9g2YO0Tce5"
      },
      "outputs": [],
      "source": [
        "x=20\n",
        "y=9"
      ]
    },
    {
      "cell_type": "code",
      "execution_count": null,
      "metadata": {
        "colab": {
          "base_uri": "https://localhost:8080/"
        },
        "id": "YEnmGD8_TrJL",
        "outputId": "209f1f80-d2b7-4a16-bfa8-e80d7a5f500e"
      },
      "outputs": [
        {
          "output_type": "stream",
          "name": "stdout",
          "text": [
            "29\n",
            "11\n"
          ]
        }
      ],
      "source": [
        "print(x+y)\n",
        "print(x-y)"
      ]
    },
    {
      "cell_type": "code",
      "execution_count": null,
      "metadata": {
        "colab": {
          "base_uri": "https://localhost:8080/"
        },
        "id": "SEtY6inZTzDP",
        "outputId": "b3ce7ff1-837c-4d1d-ec36-3e36cae1ba68"
      },
      "outputs": [
        {
          "output_type": "execute_result",
          "data": {
            "text/plain": [
              "400"
            ]
          },
          "metadata": {},
          "execution_count": 4
        }
      ],
      "source": [
        "x**2"
      ]
    },
    {
      "cell_type": "code",
      "execution_count": null,
      "metadata": {
        "colab": {
          "base_uri": "https://localhost:8080/"
        },
        "id": "wSG_hDU_T23f",
        "outputId": "a4842f19-945f-4605-cdc0-38f8001a3536"
      },
      "outputs": [
        {
          "output_type": "execute_result",
          "data": {
            "text/plain": [
              "2.2222222222222223"
            ]
          },
          "metadata": {},
          "execution_count": 5
        }
      ],
      "source": [
        "x/y"
      ]
    },
    {
      "cell_type": "code",
      "execution_count": null,
      "metadata": {
        "colab": {
          "base_uri": "https://localhost:8080/"
        },
        "id": "jHhfUsEeT6Al",
        "outputId": "83622199-7b6d-4da5-d8c3-4bf57a4108d4"
      },
      "outputs": [
        {
          "output_type": "execute_result",
          "data": {
            "text/plain": [
              "2"
            ]
          },
          "metadata": {},
          "execution_count": 6
        }
      ],
      "source": [
        "x//y"
      ]
    },
    {
      "cell_type": "code",
      "execution_count": null,
      "metadata": {
        "colab": {
          "base_uri": "https://localhost:8080/"
        },
        "id": "HLZiO-ZfT8l2",
        "outputId": "09172e4a-2a93-4165-8b46-e3d767050778"
      },
      "outputs": [
        {
          "output_type": "execute_result",
          "data": {
            "text/plain": [
              "2"
            ]
          },
          "metadata": {},
          "execution_count": 7
        }
      ],
      "source": [
        "x%y"
      ]
    },
    {
      "cell_type": "code",
      "execution_count": null,
      "metadata": {
        "colab": {
          "base_uri": "https://localhost:8080/",
          "height": 35
        },
        "id": "3RBHYnYTUIim",
        "outputId": "e82f2d97-7162-4233-cc7b-523f28a6e510"
      },
      "outputs": [
        {
          "output_type": "execute_result",
          "data": {
            "text/plain": [
              "'209'"
            ],
            "application/vnd.google.colaboratory.intrinsic+json": {
              "type": "string"
            }
          },
          "metadata": {},
          "execution_count": 8
        }
      ],
      "source": [
        "# convert to strings and concatenate\n",
        "str(x)+str(y)"
      ]
    },
    {
      "cell_type": "code",
      "execution_count": null,
      "metadata": {
        "colab": {
          "base_uri": "https://localhost:8080/"
        },
        "id": "oHMhYU4XYE-n",
        "outputId": "1b286d03-9cd0-4e8d-966d-fd79188e75f3"
      },
      "outputs": [
        {
          "output_type": "execute_result",
          "data": {
            "text/plain": [
              "20"
            ]
          },
          "metadata": {},
          "execution_count": 9
        }
      ],
      "source": [
        "x"
      ]
    },
    {
      "cell_type": "code",
      "execution_count": null,
      "metadata": {
        "colab": {
          "base_uri": "https://localhost:8080/"
        },
        "id": "l7ytnEY9YQsp",
        "outputId": "88f8f9d6-037c-4e90-ac39-631d0fe95c24"
      },
      "outputs": [
        {
          "output_type": "execute_result",
          "data": {
            "text/plain": [
              "26"
            ]
          },
          "metadata": {},
          "execution_count": 10
        }
      ],
      "source": [
        "x+=6   # x=x+6\n",
        "x\n"
      ]
    },
    {
      "cell_type": "code",
      "execution_count": null,
      "metadata": {
        "id": "Bg-_4xmDvZZQ"
      },
      "outputs": [],
      "source": [
        "# for i in range(5):"
      ]
    },
    {
      "cell_type": "markdown",
      "metadata": {
        "id": "_KQd-PfuVaqO"
      },
      "source": [
        "Python uses indentation to create code blocks."
      ]
    },
    {
      "cell_type": "code",
      "execution_count": null,
      "metadata": {
        "id": "1u4A9aB9UUmN"
      },
      "outputs": [],
      "source": [
        "def isPrime(x): # indent 0\n",
        "    for i in range(2,int(x**0.5)+1): # indent 1\n",
        "        if x%i==0: # indent 2\n",
        "            return False # indent 3\n",
        "    return True # indent 1\n"
      ]
    },
    {
      "cell_type": "markdown",
      "metadata": {
        "id": "yDoV_tAWVzHz"
      },
      "source": [
        "Find the list of primes less than 30."
      ]
    },
    {
      "cell_type": "code",
      "execution_count": null,
      "metadata": {
        "colab": {
          "base_uri": "https://localhost:8080/"
        },
        "id": "M-_0atdYVFjC",
        "outputId": "7e20cd7e-c83e-4b44-bd0a-db9d7241d0d1"
      },
      "outputs": [
        {
          "output_type": "stream",
          "name": "stdout",
          "text": [
            "[2, 3, 5, 7, 11, 13, 17, 19, 23, 29]\n"
          ]
        }
      ],
      "source": [
        "primeList=[]\n",
        "for i in range(2,31):\n",
        "  if isPrime(i): primeList.append(i)------------------\n",
        "print(primeList)"
      ]
    },
    {
      "cell_type": "code",
      "source": [],
      "metadata": {
        "id": "T7pXFsqMdveL"
      },
      "execution_count": null,
      "outputs": []
    },
    {
      "cell_type": "markdown",
      "source": [],
      "metadata": {
        "id": "UQq0NdFBdwN3"
      }
    },
    {
      "cell_type": "markdown",
      "metadata": {
        "id": "oSeqF4AOV39a"
      },
      "source": [
        "Or more compactly using a \"list comprehension\"."
      ]
    },
    {
      "cell_type": "code",
      "execution_count": null,
      "metadata": {
        "colab": {
          "base_uri": "https://localhost:8080/"
        },
        "id": "wNcs0q3DVppT",
        "outputId": "b953548a-65a4-4ce8-9c41-4c09e70c00ff"
      },
      "outputs": [
        {
          "output_type": "execute_result",
          "data": {
            "text/plain": [
              "[2, 3, 5, 7, 11, 13, 17, 19, 23, 29]"
            ]
          },
          "metadata": {},
          "execution_count": 15
        }
      ],
      "source": [
        "[i for i in range(2,31) if isPrime(i)]"
      ]
    },
    {
      "cell_type": "code",
      "execution_count": null,
      "metadata": {
        "id": "ZjIDISlkXxLR"
      },
      "outputs": [],
      "source": []
    },
    {
      "cell_type": "markdown",
      "metadata": {
        "id": "Sx5yXgcBWGsD"
      },
      "source": [
        "## Python is strongly and dynamically typed."
      ]
    },
    {
      "cell_type": "markdown",
      "metadata": {
        "id": "DmvF1iK_WLi8"
      },
      "source": [
        "## Strongly typed:"
      ]
    },
    {
      "cell_type": "code",
      "execution_count": null,
      "metadata": {
        "colab": {
          "base_uri": "https://localhost:8080/"
        },
        "id": "SLEgIPhRWN-w",
        "outputId": "e8673fba-ced6-4c82-ea83-786aaa82e351"
      },
      "outputs": [
        {
          "output_type": "stream",
          "name": "stdout",
          "text": [
            "Error generated; can't add different types\n"
          ]
        }
      ],
      "source": [
        "try:\n",
        "  print(4+\"hello\")\n",
        "except:\n",
        "  print(\"Error generated; can't add different types\")"
      ]
    },
    {
      "cell_type": "code",
      "execution_count": null,
      "metadata": {
        "colab": {
          "base_uri": "https://localhost:8080/"
        },
        "id": "5sDc80fgp7NO",
        "outputId": "66be8e2f-20aa-4d60-86ff-c83157cd3a7e"
      },
      "outputs": [
        {
          "output_type": "execute_result",
          "data": {
            "text/plain": [
              "10"
            ]
          },
          "metadata": {},
          "execution_count": 17
        }
      ],
      "source": [
        "4+6"
      ]
    },
    {
      "cell_type": "code",
      "execution_count": null,
      "metadata": {
        "colab": {
          "base_uri": "https://localhost:8080/",
          "height": 35
        },
        "id": "WhCw4IR8p-gW",
        "outputId": "07da7326-4a74-483d-d428-1c6e17d1f259"
      },
      "outputs": [
        {
          "output_type": "execute_result",
          "data": {
            "text/plain": [
              "'hello world'"
            ],
            "application/vnd.google.colaboratory.intrinsic+json": {
              "type": "string"
            }
          },
          "metadata": {},
          "execution_count": 18
        }
      ],
      "source": [
        "\"hello\" + \" world\""
      ]
    },
    {
      "cell_type": "code",
      "execution_count": null,
      "metadata": {
        "colab": {
          "base_uri": "https://localhost:8080/"
        },
        "id": "iCTJX8hRqD7A",
        "outputId": "0c64310a-02f6-4769-9e98-d9c91f653352"
      },
      "outputs": [
        {
          "output_type": "execute_result",
          "data": {
            "text/plain": [
              "[1, 2, 3, 'hello', 'world']"
            ]
          },
          "metadata": {},
          "execution_count": 19
        }
      ],
      "source": [
        "[1,2,3] + [\"hello\",\"world\"]"
      ]
    },
    {
      "cell_type": "markdown",
      "metadata": {
        "id": "wz2ne9lKWlUv"
      },
      "source": [
        "## Dynamically Typed:"
      ]
    },
    {
      "cell_type": "code",
      "execution_count": null,
      "metadata": {
        "colab": {
          "base_uri": "https://localhost:8080/"
        },
        "id": "FumjKu0VWj-y",
        "outputId": "e4a7124d-3947-4179-cc27-c3a08e7bab26"
      },
      "outputs": [
        {
          "output_type": "stream",
          "name": "stdout",
          "text": [
            "hello\n",
            "<class 'str'>\n",
            "5\n",
            "<class 'int'>\n"
          ]
        }
      ],
      "source": [
        "# easily change the type of a variable\n",
        "x=\"hello\"\n",
        "print(x)\n",
        "print(type(x))\n",
        "x=5\n",
        "print(x)\n",
        "print(type(x))"
      ]
    },
    {
      "cell_type": "markdown",
      "metadata": {
        "id": "Yh4vOvlQW2xK"
      },
      "source": [
        "## Loops"
      ]
    },
    {
      "cell_type": "code",
      "execution_count": null,
      "metadata": {
        "colab": {
          "base_uri": "https://localhost:8080/"
        },
        "id": "kzfaPUtzW52y",
        "outputId": "6b29494f-86d8-49bd-fddb-c54488b6dfc2"
      },
      "outputs": [
        {
          "output_type": "stream",
          "name": "stdout",
          "text": [
            "55\n"
          ]
        }
      ],
      "source": [
        "# add the numbers from 1 to 10 using a for loop\n",
        "total=0\n",
        "for i in range(1,11):\n",
        "  total+=i\n",
        "print(total)"
      ]
    },
    {
      "cell_type": "code",
      "execution_count": null,
      "metadata": {
        "colab": {
          "base_uri": "https://localhost:8080/"
        },
        "id": "6kn0gJozXF06",
        "outputId": "0a4784b1-f64a-4c3b-ad6e-09a54880538b"
      },
      "outputs": [
        {
          "output_type": "stream",
          "name": "stdout",
          "text": [
            "55\n"
          ]
        }
      ],
      "source": [
        "# do the same using a while loop\n",
        "i=1\n",
        "total=0\n",
        "while i<=10:\n",
        "  total+=i\n",
        "  i+=1\n",
        "print(total)"
      ]
    },
    {
      "cell_type": "markdown",
      "metadata": {
        "id": "m0i6WZEtXtTx"
      },
      "source": [
        "Using modules with the \"import\" command"
      ]
    },
    {
      "cell_type": "code",
      "execution_count": null,
      "metadata": {
        "colab": {
          "base_uri": "https://localhost:8080/"
        },
        "id": "xtFvgGKoXeAq",
        "outputId": "e023a451-d148-47b2-bf90-bfd7460b11dc"
      },
      "outputs": [
        {
          "output_type": "stream",
          "name": "stdout",
          "text": [
            "[1, 2, 3, 4, 5, 6]\n",
            "4\n"
          ]
        }
      ],
      "source": [
        "import random\n",
        "dice=list(range(1,7))\n",
        "print(dice)\n",
        "print(random.choice(dice))"
      ]
    },
    {
      "cell_type": "markdown",
      "metadata": {
        "id": "9v_Btz_QYXel"
      },
      "source": [
        "## Input and Conditionals"
      ]
    },
    {
      "cell_type": "code",
      "execution_count": null,
      "metadata": {
        "id": "Pw9LG5BnYatw"
      },
      "outputs": [],
      "source": [
        "temp=float(input(\"Enter a temperature in Fahrenheit: \"))\n",
        "if temp<32:\n",
        "  print(\"Below the freezing point of water\")\n",
        "elif temp>212:\n",
        "  print(\"Above the boiling point of water\")\n",
        "else:\n",
        "  print(\"Between boiling and freezing\")"
      ]
    },
    {
      "cell_type": "markdown",
      "metadata": {
        "id": "cYwae3cjZthM"
      },
      "source": [
        "## Boolean Types"
      ]
    },
    {
      "cell_type": "code",
      "execution_count": null,
      "metadata": {
        "id": "ML6hIeJiZ0Nz",
        "colab": {
          "base_uri": "https://localhost:8080/"
        },
        "outputId": "a7072ed1-fc0a-4cba-e0fc-088cc23f8612"
      },
      "outputs": [
        {
          "output_type": "stream",
          "name": "stdout",
          "text": [
            "True\n",
            "False\n",
            "<class 'bool'>\n",
            "True\n",
            "False\n",
            "True\n"
          ]
        }
      ],
      "source": [
        "temp=31\n",
        "freezing=(temp<32)\n",
        "print(freezing) # True\n",
        "boiling=(temp>212)\n",
        "print(boiling) # False\n",
        "print(type(boiling))\n",
        "print(boiling or freezing) # True\n",
        "print(boiling and freezing) # False\n",
        "print(not(boiling)) # True"
      ]
    },
    {
      "cell_type": "markdown",
      "metadata": {
        "id": "KHij00pdaZXa"
      },
      "source": [
        "## Strings"
      ]
    },
    {
      "cell_type": "code",
      "execution_count": null,
      "metadata": {
        "id": "NCaS733UalwK",
        "colab": {
          "base_uri": "https://localhost:8080/"
        },
        "outputId": "62132a63-8279-487c-9be8-3e1223b5b851"
      },
      "outputs": [
        {
          "output_type": "stream",
          "name": "stdout",
          "text": [
            "THE RAIN IN SPAIN IS MAINLY ON THE PLANE\n",
            "The Rain In Spain Is Mainly On The Plane\n",
            "The rain in spain is mainly on the plane\n",
            "the rain in spain is mainly on the plane\n"
          ]
        }
      ],
      "source": [
        "phrase='the rain in spain is mainly on the plane'\n",
        "print(phrase.upper())\n",
        "print(phrase.title())\n",
        "print(phrase.capitalize())\n",
        "p2=phrase.upper()\n",
        "print(p2.lower())"
      ]
    }
  ],
  "metadata": {
    "colab": {
      "provenance": [],
      "include_colab_link": true
    },
    "kernelspec": {
      "display_name": "Python 3",
      "name": "python3"
    },
    "language_info": {
      "name": "python"
    }
  },
  "nbformat": 4,
  "nbformat_minor": 0
}