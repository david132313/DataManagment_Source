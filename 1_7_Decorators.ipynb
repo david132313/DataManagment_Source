{
  "nbformat": 4,
  "nbformat_minor": 0,
  "metadata": {
    "colab": {
      "provenance": [],
      "include_colab_link": true
    },
    "kernelspec": {
      "name": "python3",
      "display_name": "Python 3"
    },
    "language_info": {
      "name": "python"
    }
  },
  "cells": [
    {
      "cell_type": "markdown",
      "metadata": {
        "id": "view-in-github",
        "colab_type": "text"
      },
      "source": [
        "<a href=\"https://colab.research.google.com/github/david132313/DataManagment_Source/blob/main/1_7_Decorators.ipynb\" target=\"_parent\"><img src=\"https://colab.research.google.com/assets/colab-badge.svg\" alt=\"Open In Colab\"/></a>"
      ]
    },
    {
      "cell_type": "markdown",
      "source": [
        "## Decorators: Used to add extra features to a function"
      ],
      "metadata": {
        "id": "Yg3iR1GttdXT"
      }
    },
    {
      "cell_type": "markdown",
      "source": [
        "## *args\n",
        "\n",
        "* we used *args in a function definition to specify that a function can take an arbitrary number of arguments represented as a tuple\n",
        "* *args goes in the parameter list\n",
        "* args goes in the function body to represent the tuple of arguments\n"
      ],
      "metadata": {
        "id": "0QX2RfxNsrZl"
      }
    },
    {
      "cell_type": "markdown",
      "source": [
        "## An example of *args"
      ],
      "metadata": {
        "id": "SBJhLveyt8Sq"
      }
    },
    {
      "cell_type": "code",
      "source": [
        "def my_func(*args):\n",
        "  return (max(args),min(args))\n",
        "\n",
        "print(my_func(1,2,3))\n",
        "print(my_func(1,2,3,4,-2))"
      ],
      "metadata": {
        "id": "6lbF0PI3t_2k",
        "colab": {
          "base_uri": "https://localhost:8080/"
        },
        "outputId": "0126c69c-b28c-4c1c-b98f-c2b939239da4"
      },
      "execution_count": null,
      "outputs": [
        {
          "output_type": "stream",
          "name": "stdout",
          "text": [
            "(3, 1)\n",
            "(4, -2)\n"
          ]
        }
      ]
    },
    {
      "cell_type": "markdown",
      "source": [
        "This can be used more generally. * will unpack a tuple so it can be used in a function call, for example:"
      ],
      "metadata": {
        "id": "SEeCQdiNudoX"
      }
    },
    {
      "cell_type": "code",
      "source": [
        "t=(10,0,-2)\n",
        "for i in range(*t):\n",
        " print(i)"
      ],
      "metadata": {
        "id": "qZqGqK1wut01",
        "colab": {
          "base_uri": "https://localhost:8080/"
        },
        "outputId": "17a8be9e-48ab-47b8-db6e-38124a8c4c55"
      },
      "execution_count": null,
      "outputs": [
        {
          "output_type": "stream",
          "name": "stdout",
          "text": [
            "10\n",
            "8\n",
            "6\n",
            "4\n",
            "2\n"
          ]
        }
      ]
    },
    {
      "cell_type": "markdown",
      "source": [
        "Will the following work?"
      ],
      "metadata": {
        "id": "chRRrdEAuETh"
      }
    },
    {
      "cell_type": "code",
      "source": [
        "t=(10,0,-2)\n",
        "try:\n",
        "  for i in range(t):\n",
        "    print(i)\n",
        "except TypeError as e:\n",
        "    print(\"TypeError\",e)"
      ],
      "metadata": {
        "id": "bjfGKpuYuJUd",
        "colab": {
          "base_uri": "https://localhost:8080/"
        },
        "outputId": "a84d6b9e-e6ed-49b0-cf36-f97186afffba"
      },
      "execution_count": null,
      "outputs": [
        {
          "output_type": "stream",
          "name": "stdout",
          "text": [
            "TypeError 'tuple' object cannot be interpreted as an integer\n"
          ]
        }
      ]
    },
    {
      "cell_type": "markdown",
      "source": [
        "What is the difference between the following two function calls?"
      ],
      "metadata": {
        "id": "kjgKn6Xws3CB"
      }
    },
    {
      "cell_type": "code",
      "source": [
        "def f(*args):\n",
        "  print(args)\n",
        "\n",
        "def g(*args):\n",
        "  print(*args)\n",
        "\n",
        "f(1,2)\n",
        "g(1,2)"
      ],
      "metadata": {
        "id": "WUSXKDl7ubyb",
        "colab": {
          "base_uri": "https://localhost:8080/"
        },
        "outputId": "0b8359e0-537f-441b-e9f2-857b8859d1c8"
      },
      "execution_count": null,
      "outputs": [
        {
          "output_type": "stream",
          "name": "stdout",
          "text": [
            "(1, 2)\n",
            "1 2\n"
          ]
        }
      ]
    },
    {
      "cell_type": "markdown",
      "source": [
        "In Python, functions are first-class objects, which means they can be passed as arguments, returned as results from other functions, stored in data structures, etc. Decorators rely on this fact."
      ],
      "metadata": {
        "id": "GD2yAB1Cuy8u"
      }
    },
    {
      "cell_type": "markdown",
      "source": [
        "Here's an example where we pass a function name as a parameter to another function and the function passed in is then executed."
      ],
      "metadata": {
        "id": "XKzRiiA40TJk"
      }
    },
    {
      "cell_type": "code",
      "source": [
        "def double(n):\n",
        "  return n*2\n",
        "def square(n):\n",
        "  return n*n\n",
        "def do_something(func,n):\n",
        "  return func(n)\n",
        "print(do_something(double,3))\n",
        "print(do_something(square,3))\n",
        "print(type(double))"
      ],
      "metadata": {
        "id": "uvX0vsUX5MAs",
        "colab": {
          "base_uri": "https://localhost:8080/"
        },
        "outputId": "cc7bd841-c2d1-4bca-b942-723d8772e820"
      },
      "execution_count": null,
      "outputs": [
        {
          "output_type": "stream",
          "name": "stdout",
          "text": [
            "6\n",
            "9\n",
            "<class 'function'>\n"
          ]
        }
      ]
    },
    {
      "cell_type": "markdown",
      "source": [
        "##Exercise:\n",
        "\n",
        "Define the two functions above, double, and square, using lambda instead of def."
      ],
      "metadata": {
        "id": "eaHCzJrhkz4w"
      }
    },
    {
      "cell_type": "code",
      "source": [
        "#@title Solution\n"
      ],
      "metadata": {
        "id": "jrzoXW-yTrv2"
      },
      "execution_count": null,
      "outputs": []
    },
    {
      "cell_type": "markdown",
      "source": [
        "An aside: you can even use \"eval\" to convert a string into something that can be evaluated. But this is dangerous to use with user input because it sometimes can be used to run arbitrary operating system commands."
      ],
      "metadata": {
        "id": "c3q94ymVcOMm"
      }
    },
    {
      "cell_type": "markdown",
      "source": [],
      "metadata": {
        "id": "A2sVgIzl7OTg"
      }
    },
    {
      "cell_type": "code",
      "source": [
        "s2=eval(\"square\")\n",
        "print(s2(5))\n",
        "print(eval(\"double(14)\"))\n"
      ],
      "metadata": {
        "id": "uIC0rq1sb_30",
        "colab": {
          "base_uri": "https://localhost:8080/"
        },
        "outputId": "5539dcf1-d4b8-435b-d02f-a87e7d55bf9c"
      },
      "execution_count": null,
      "outputs": [
        {
          "output_type": "stream",
          "name": "stdout",
          "text": [
            "25\n",
            "28\n"
          ]
        }
      ]
    },
    {
      "cell_type": "markdown",
      "source": [
        "Here's an example where we store function names as values in a dictionary and then call the functions by referencing the values."
      ],
      "metadata": {
        "id": "YNrCtaln1sYA"
      }
    },
    {
      "cell_type": "code",
      "source": [
        "def add(*args):\n",
        "  r=0\n",
        "  for x in args:\n",
        "    r+=x\n",
        "  return r\n",
        "\n",
        "def product(*args):\n",
        "  r=1\n",
        "  for x in args:\n",
        "    r*=x\n",
        "  return r\n",
        "\n",
        "print(add(1,2,3,4))\n",
        "print(product(1,2,3,4))\n",
        "d={\"add\":add, \"product\":product}\n",
        "print(d[\"add\"](1,2,3,4,5))\n",
        "print(d[\"product\"](1,2,3,4,5))"
      ],
      "metadata": {
        "id": "Kr3mcCBWxwzK",
        "colab": {
          "base_uri": "https://localhost:8080/"
        },
        "outputId": "981a4d52-39d3-4041-d0c9-c02e7e0ec078"
      },
      "execution_count": null,
      "outputs": [
        {
          "output_type": "stream",
          "name": "stdout",
          "text": [
            "10\n",
            "24\n",
            "15\n",
            "120\n"
          ]
        }
      ]
    },
    {
      "cell_type": "markdown",
      "source": [
        "##Exercise:\n",
        "\n",
        "Rewrite the function product above using lambda and reduce. (Note reduce needs to be imported from the functools module)."
      ],
      "metadata": {
        "id": "_YZPCfLDoGvr"
      }
    },
    {
      "cell_type": "code",
      "source": [
        "from functools import reduce\n",
        "def product(*args):\n",
        "  return reduce(lambda x,y: x*y, args)\n",
        "\n",
        "print(product(1,2,3))\n"
      ],
      "metadata": {
        "id": "9wzQpSdnQm1l",
        "outputId": "bdf51b70-ebdc-4e99-fbfd-dabf440b6cea",
        "colab": {
          "base_uri": "https://localhost:8080/"
        }
      },
      "execution_count": null,
      "outputs": [
        {
          "output_type": "stream",
          "name": "stdout",
          "text": [
            "6\n"
          ]
        }
      ]
    },
    {
      "cell_type": "markdown",
      "source": [
        "Python also supports \"inner functions\" which are local to the function in which they are defined. They cannot be called from outside that function, like a local variable cannot be referenced outside the function it is defined in."
      ],
      "metadata": {
        "id": "jtHhg1ku0lbp"
      }
    },
    {
      "cell_type": "code",
      "source": [
        "def greeter():\n",
        "  # these functions are local to the function\n",
        "  # they are wrapped in\n",
        "  def hi():\n",
        "    print(\"hi\")\n",
        "  def hello():\n",
        "    print(\"hello\")\n",
        "  hello()\n",
        "  hi()\n",
        "\n",
        "greeter()"
      ],
      "metadata": {
        "id": "yJNatDlJ63nD",
        "colab": {
          "base_uri": "https://localhost:8080/"
        },
        "outputId": "68548569-c58e-4a85-a7ef-55a4c7271e8a"
      },
      "execution_count": null,
      "outputs": [
        {
          "output_type": "stream",
          "name": "stdout",
          "text": [
            "hello\n",
            "hi\n"
          ]
        }
      ]
    },
    {
      "cell_type": "markdown",
      "source": [
        "Can we do the following?"
      ],
      "metadata": {
        "id": "cUcG_BIg03rp"
      }
    },
    {
      "cell_type": "code",
      "source": [
        "try:\n",
        "  hi()\n",
        "except NameError as e:\n",
        "  print(\"NameError\",e)"
      ],
      "metadata": {
        "id": "Kk80LMvb7MKB",
        "colab": {
          "base_uri": "https://localhost:8080/"
        },
        "outputId": "22dba605-3d74-4888-8128-b69ee04e2c05"
      },
      "execution_count": null,
      "outputs": [
        {
          "output_type": "stream",
          "name": "stdout",
          "text": [
            "NameError name 'hi' is not defined\n"
          ]
        }
      ]
    },
    {
      "cell_type": "markdown",
      "source": [
        "The following function runMany returns the function new_func as its result. The function new_func is itself defined as an inner function in terms of the arguments to runMany and takes one argument of its own."
      ],
      "metadata": {
        "id": "aJzow8512pV0"
      }
    },
    {
      "cell_type": "code",
      "source": [
        "def runMany(func,n):\n",
        "  # what is x? the argument to the function returned\n",
        "  def new_func(x):\n",
        "    for i in range(n):\n",
        "      x=func(x)\n",
        "    return(x)\n",
        "  return new_func\n"
      ],
      "metadata": {
        "id": "_hDfptytv2el"
      },
      "execution_count": null,
      "outputs": []
    },
    {
      "cell_type": "markdown",
      "source": [
        "When runMany is called with the arguments double (which is a function) and 3, it returns a new function which doubles its argument 3 times, or octuples it (that is, makes it eight times as large). Thus we can use functions to create new functions that are based on them. This is the idea behind decorators."
      ],
      "metadata": {
        "id": "9BsBCORM3ElO"
      }
    },
    {
      "cell_type": "code",
      "source": [
        "octuple=runMany(double,3)\n",
        "print(type(octuple))\n",
        "print(octuple(5))"
      ],
      "metadata": {
        "id": "61dSFQ0bwPWp",
        "colab": {
          "base_uri": "https://localhost:8080/"
        },
        "outputId": "51c9c8ab-fa85-4d85-9d3b-874c7955b49b"
      },
      "execution_count": null,
      "outputs": [
        {
          "output_type": "stream",
          "name": "stdout",
          "text": [
            "<class 'function'>\n",
            "40\n"
          ]
        }
      ]
    },
    {
      "cell_type": "markdown",
      "source": [
        "In what follows, we have a cake, or rather a function called cake which returns the word cake."
      ],
      "metadata": {
        "id": "8AvUzhPW6nnW"
      }
    },
    {
      "cell_type": "code",
      "source": [
        "def cake():\n",
        "  return \"cake\"\n",
        "\n",
        "print(cake())"
      ],
      "metadata": {
        "colab": {
          "base_uri": "https://localhost:8080/"
        },
        "id": "d4ri2mY95dwg",
        "outputId": "9ace71be-40a1-4642-8f6d-efefe458fe96"
      },
      "execution_count": null,
      "outputs": [
        {
          "output_type": "stream",
          "name": "stdout",
          "text": [
            "cake\n"
          ]
        }
      ]
    },
    {
      "cell_type": "markdown",
      "source": [
        "Let's decorate it. The new cake contains icing."
      ],
      "metadata": {
        "id": "_3qvzQea6rgk"
      }
    },
    {
      "cell_type": "code",
      "source": [
        "def icing(old_func):\n",
        "  def new_func():\n",
        "    return old_func()+' with icing'\n",
        "  return new_func\n",
        "\n",
        "#def cake(): return \"cake\"\n",
        "#cake=icing(cake)\n",
        "\n",
        "@icing\n",
        "def cake(): return \"cake\"\n",
        "\n",
        "print(cake())"
      ],
      "metadata": {
        "colab": {
          "base_uri": "https://localhost:8080/"
        },
        "id": "Nahfr0gi59zi",
        "outputId": "c0432374-5a14-4559-8a80-8c6611d66c9e"
      },
      "execution_count": null,
      "outputs": [
        {
          "output_type": "stream",
          "name": "stdout",
          "text": [
            "cake with icing\n"
          ]
        }
      ]
    },
    {
      "cell_type": "code",
      "source": [
        "def icing(old_func):\n",
        "  def new_func():\n",
        "    return old_func()+' with icing'\n",
        "  return new_func\n",
        "\n",
        "def cake(): return \"cake\"\n",
        "\n",
        "new=icing(cake)\n",
        "new()"
      ],
      "metadata": {
        "id": "h95ykort5i26",
        "colab": {
          "base_uri": "https://localhost:8080/",
          "height": 35
        },
        "outputId": "7cc4e91a-43d5-4d40-d620-3a7c6183ba5d"
      },
      "execution_count": null,
      "outputs": [
        {
          "output_type": "execute_result",
          "data": {
            "text/plain": [
              "'cake with icing'"
            ],
            "application/vnd.google.colaboratory.intrinsic+json": {
              "type": "string"
            }
          },
          "metadata": {},
          "execution_count": 31
        }
      ]
    },
    {
      "cell_type": "markdown",
      "source": [
        "The following is another, equivalent way to add the decorator. It is a form of syntactic sugar."
      ],
      "metadata": {
        "id": "stRGboCZ7ToV"
      }
    },
    {
      "cell_type": "code",
      "source": [
        "@icing\n",
        "def cake():\n",
        "  return \"cake\"\n",
        "print(cake())"
      ],
      "metadata": {
        "id": "Lr1b3FPt64Mp",
        "colab": {
          "base_uri": "https://localhost:8080/"
        },
        "outputId": "642e9265-d16c-44e2-80e3-fd2dcf3bffc9"
      },
      "execution_count": null,
      "outputs": [
        {
          "output_type": "stream",
          "name": "stdout",
          "text": [
            "cake with icing\n"
          ]
        }
      ]
    },
    {
      "cell_type": "markdown",
      "source": [
        "We could decorate a different function."
      ],
      "metadata": {
        "id": "gKSMMg7F80Z6"
      }
    },
    {
      "cell_type": "code",
      "source": [
        "@icing\n",
        "def cupcake():\n",
        "  return \"cupcake\"\n",
        "print(cupcake())"
      ],
      "metadata": {
        "id": "ktqLNHZU8hFU",
        "colab": {
          "base_uri": "https://localhost:8080/"
        },
        "outputId": "06808b6c-1c07-4d7e-87a5-af6fa417bfbd"
      },
      "execution_count": null,
      "outputs": [
        {
          "output_type": "stream",
          "name": "stdout",
          "text": [
            "cupcake with icing\n"
          ]
        }
      ]
    },
    {
      "cell_type": "markdown",
      "source": [
        "**Poll** **Question**:\n",
        "\n",
        "The function that is returned by a decorator is a type of function that is called:\n",
        "\n",
        "* An embedded function\n",
        "* An inner or nested function\n",
        "* A local function\n",
        "* A private function\n"
      ],
      "metadata": {
        "id": "JJXcILyGf0-T"
      }
    },
    {
      "cell_type": "markdown",
      "source": [
        "Let's make a decorator that adds exclamation points. (Note what happens if we run the following cell multiple times.)"
      ],
      "metadata": {
        "id": "LgGR_cYR_QXO"
      }
    },
    {
      "cell_type": "code",
      "source": [
        "def shout(old_f):\n",
        "  def new_f(s):\n",
        "    return old_f(s)+'!!!!!'\n",
        "  return new_f\n",
        "\n",
        "# decorate the str function\n",
        "str=shout(str)\n",
        "print(str(12))"
      ],
      "metadata": {
        "id": "SwtykM27_Wor",
        "colab": {
          "base_uri": "https://localhost:8080/"
        },
        "outputId": "69d39588-11b9-4082-a714-0c506390b284"
      },
      "execution_count": null,
      "outputs": [
        {
          "output_type": "stream",
          "name": "stdout",
          "text": [
            "12!!!!!\n"
          ]
        }
      ]
    },
    {
      "cell_type": "markdown",
      "source": [
        "Does this work?"
      ],
      "metadata": {
        "id": "3hi1DBd-BI4v"
      }
    },
    {
      "cell_type": "code",
      "source": [
        "@shout\n",
        "def full_name(first,last):\n",
        "  return f\"{first} {last}\"\n",
        "\n",
        "try:\n",
        "  person=full_name('Alice','Alvarez')\n",
        "  print(person)\n",
        "except TypeError as e:\n",
        "  print(\"TypeError:\",e)"
      ],
      "metadata": {
        "id": "mtoKKS8DAxyY",
        "colab": {
          "base_uri": "https://localhost:8080/"
        },
        "outputId": "b1994113-3a4d-41fe-fc26-b6cd5a32e6c7"
      },
      "execution_count": null,
      "outputs": [
        {
          "output_type": "stream",
          "name": "stdout",
          "text": [
            "TypeError: shout.<locals>.new_f() takes 1 positional argument but 2 were given\n"
          ]
        }
      ]
    },
    {
      "cell_type": "markdown",
      "source": [
        "We can fix this by allowing for a variable amount of arguments in the decorator."
      ],
      "metadata": {
        "id": "JxSSVePPCtt6"
      }
    },
    {
      "cell_type": "code",
      "source": [
        "def shout(old_f):\n",
        "    def new_f(*args, **kwargs):\n",
        "        res = old_f(*args)\n",
        "        return res + '!!!!!'\n",
        "    return new_f"
      ],
      "metadata": {
        "id": "QK39VhNMCRSX"
      },
      "execution_count": null,
      "outputs": []
    },
    {
      "cell_type": "code",
      "source": [
        "@shout\n",
        "def full_name(first,last):\n",
        "  return f\"{first} {last}\"\n",
        "\n",
        "person=full_name('Alice','Alvarez')\n",
        "print(person)"
      ],
      "metadata": {
        "id": "FDMgCjpmC_kc",
        "colab": {
          "base_uri": "https://localhost:8080/"
        },
        "outputId": "d61274b5-f488-4d71-aefe-f4571eca2f44"
      },
      "execution_count": null,
      "outputs": [
        {
          "output_type": "stream",
          "name": "stdout",
          "text": [
            "Alice Alvarez!!!!!\n"
          ]
        }
      ]
    },
    {
      "cell_type": "markdown",
      "source": [
        "## Uses of Decorators\n",
        "* Modify arguments going into a function, or modify the function's output\n",
        "* Do some things before or after we call a function\n",
        "* Some examples\n",
        "    - timing a function\n",
        "    - caching results to speed up a function"
      ],
      "metadata": {
        "id": "TY9mg7gKE8nO"
      }
    },
    {
      "cell_type": "code",
      "source": [
        "import time\n",
        "def time_ns(func):\n",
        "  def wrapper(*arg):\n",
        "      t = time.process_time_ns()\n",
        "      res = func(*arg)\n",
        "      print(f\"The function {func.__name__} took {time.process_time_ns()-t} nanoseconds to run.\")\n",
        "      return res\n",
        "  return wrapper\n",
        "\n",
        "# series starts with 0,1,1,2,3,5 ...\n",
        "@time_ns\n",
        "def fibonacci(n):\n",
        "  l=[0,1]\n",
        "  for i in range(2,n):\n",
        "    l.append(l[i-1]+l[i-2])\n",
        "  return l[n-1]\n",
        "\n",
        "print(fibonacci(6))\n",
        "print(fibonacci(20))\n",
        "print(fibonacci(100))\n"
      ],
      "metadata": {
        "id": "yEJ1F0puIBG3",
        "colab": {
          "base_uri": "https://localhost:8080/"
        },
        "outputId": "6498a3b7-0785-4881-bcec-2e8223ec2b79"
      },
      "execution_count": null,
      "outputs": [
        {
          "output_type": "stream",
          "name": "stdout",
          "text": [
            "The function fibonacci took 10688 nanoseconds to run.\n",
            "5\n",
            "The function fibonacci took 11385 nanoseconds to run.\n",
            "4181\n",
            "The function fibonacci took 21338 nanoseconds to run.\n",
            "218922995834555169026\n"
          ]
        }
      ]
    },
    {
      "cell_type": "markdown",
      "source": [
        "Decorators can be used for caching. Here the lru_cache decorator saves up to the last maxsize values returned from calls to the function decorated. If maxsize is None, it caches all of the previous calls."
      ],
      "metadata": {
        "id": "oKNWCyi5ThZ-"
      }
    },
    {
      "cell_type": "code",
      "source": [
        "from functools import lru_cache\n",
        "\n",
        "@lru_cache(maxsize=None)\n",
        "def fib(n):\n",
        "    if n < 2:\n",
        "        return n\n",
        "    return fib(n-1) + fib(n-2)\n",
        "\n",
        "print([fib(n) for n in range(30)])\n",
        "\n",
        "print(fib.cache_info())"
      ],
      "metadata": {
        "id": "OnklY_acMkus",
        "colab": {
          "base_uri": "https://localhost:8080/"
        },
        "outputId": "d918f7a9-7548-4ef4-ee4c-59bb03ac0f52"
      },
      "execution_count": null,
      "outputs": [
        {
          "output_type": "stream",
          "name": "stdout",
          "text": [
            "[0, 1, 1, 2, 3, 5, 8, 13, 21, 34, 55, 89, 144, 233, 377, 610, 987, 1597, 2584, 4181, 6765, 10946, 17711, 28657, 46368, 75025, 121393, 196418, 317811, 514229]\n",
            "CacheInfo(hits=56, misses=30, maxsize=None, currsize=30)\n"
          ]
        }
      ]
    },
    {
      "cell_type": "markdown",
      "source": [
        "Usually we don't write our own decorators, but use pre-written ones (like in the two examples above.) For instance:\n",
        "\n",
        "* Python uses a decorator to define a method as [static](https://docs.python.org/3/howto/descriptor.html?highlight=static%20method#static-methods).\n",
        "* The flask web framework uses decorators for http request handling.\n"
      ],
      "metadata": {
        "id": "zTEOVnSIU5wl"
      }
    }
  ]
}