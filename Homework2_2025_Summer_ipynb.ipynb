{
  "cells": [
    {
      "cell_type": "markdown",
      "metadata": {
        "id": "view-in-github",
        "colab_type": "text"
      },
      "source": [
        "<a href=\"https://colab.research.google.com/github/david132313/DataManagment_Source/blob/main/Homework2_2025_Summer_ipynb.ipynb\" target=\"_parent\"><img src=\"https://colab.research.google.com/assets/colab-badge.svg\" alt=\"Open In Colab\"/></a>"
      ]
    },
    {
      "cell_type": "markdown",
      "id": "d4b30926",
      "metadata": {
        "id": "d4b30926"
      },
      "source": [
        "## Requirement of Submission\n",
        "1. Please directly write your code in this file and submit your `.ipynb` file to Brightspace. Do NOT accept `.py` files.\n",
        "2. NO extended deadline.\n",
        "3. Please check your answers before the submission."
      ]
    },
    {
      "cell_type": "markdown",
      "id": "1151cdd7",
      "metadata": {
        "id": "1151cdd7"
      },
      "source": [
        "# Homework 2"
      ]
    },
    {
      "cell_type": "markdown",
      "id": "9e2d3528",
      "metadata": {
        "id": "9e2d3528"
      },
      "source": [
        "## 1.\n",
        "\n",
        "Write down all the methods/functions we have learned in Pandas Module."
      ]
    },
    {
      "cell_type": "code",
      "source": [
        "import pandas as pd\n",
        "import numpy as np"
      ],
      "metadata": {
        "id": "XagJcf7Acq68"
      },
      "id": "XagJcf7Acq68",
      "execution_count": 21,
      "outputs": []
    },
    {
      "cell_type": "code",
      "source": [
        "#pd.Series(...)。pd.Series([...,index)\n",
        "#pd.isnull(x)\n",
        "#pd.notnull(x)\n",
        "#pd.DataFrame(...)\n",
        "#pd.DataFrame([],columns=[])\n",
        "#df.loc[x:y] df.loc[x,y] (ending index inclusive) df.iloc[]\n",
        "#df.values\n",
        "#df.index\n",
        "#df[...].name\n",
        "#pd.Series(...,...)\n",
        "#df.head()\n",
        "#c.reindex(index=, columns=)\n",
        "#d.apply(fn,axis=a) ///fn is the function name , axis may be 0 for applied column-by-column, operating vertically down each column. or 1 for applied row-by-row, horizontally.\n",
        "#series.sort_values(ascending=True/False, Inplace=False/True)\n",
        "#dataframe.sort_values(by=[ ], ascending=[ ], Inplace=False/True)\n",
        "#pd.add()\n",
        "#pd.mean()\n",
        "#pd.std()\n",
        "\n",
        "#pd.idxmax(axis=0, skipna=True, numeric_only=False)\n",
        "\n",
        "#pd.reindex(index=, columns=)\n",
        "\n",
        "#pd.replace(old, new)\n",
        "#pd.dropna(axis=)\n",
        "#pd.ffill()\n",
        "#pd.cut(data,bins,labels=labels)\n",
        "\n",
        "\n",
        "\n"
      ],
      "metadata": {
        "id": "EfdZitHK4M8W"
      },
      "id": "EfdZitHK4M8W",
      "execution_count": null,
      "outputs": []
    },
    {
      "cell_type": "markdown",
      "source": [
        "series/pd.isnull()\n",
        "\n",
        "series/pd.notnull()\n",
        "\n",
        "pd.drop(index=, columns=, axis=, inplace=False/True)\n",
        "\n",
        "pd.NA/pd.NaT\n",
        "\n",
        "pd.astype()\n",
        "\n",
        "pd.from_dict()\n",
        "\n",
        "pd.dtypes\n",
        "\n",
        "pd.index\n",
        "\n",
        "pd.columns\n",
        "\n",
        "pd.apply(axis=0/1)\n",
        "\n",
        "series/pd.map(fn)\n",
        "\n",
        "series.str.slice()/upper()/split()/replace()\n",
        "\n",
        "pd.round()\n",
        "\n",
        "series.value_counts()\n",
        "\n",
        "pd.sort_values(by=, ascending = True/False, inplace= False/True)\n",
        "\n",
        "series.unique()\n",
        "\n",
        "pd.add()\n",
        "\n",
        "pd.mean()\n",
        "\n",
        "pd.std()\n",
        "\n",
        "pd.idxmax(axis=0, skipna=True, numeric_only=False)\n",
        "\n",
        "pd.reindex(index=, columns=)\n",
        "\n",
        "pd.replace(old, new)\n",
        "pd.dropna(axis=)\n",
        "pd.ffill()\n",
        "pd.cut(data,bins,labels=labels)\n",
        "astype(newType)\n",
        "pd.to_numeric(colName)\n",
        "pd.to_datetime(colName)\n",
        ".month .month_name() .isocalendar().week .dayofyear\n",
        "pd.merge(a,b,on='k') 'left': include all keys from the first (left) DataFrame, even if they don't exist in second (right)\n",
        "'right': include all keys from the second (right) DataFrame, even if they don't exist in first (left)\n",
        "'outer': union of keys from both DataFrames\n",
        "'inner': intersection of keys from both DataFrames (default)\n",
        "We will see all of these again when we study SQL.\n",
        "pd.concat"
      ],
      "metadata": {
        "id": "wslnoBl34OI5"
      },
      "id": "wslnoBl34OI5"
    },
    {
      "cell_type": "markdown",
      "source": [
        "##  2\n",
        "\n",
        "Take the file **weight-height.csv** which can be found in the Google Drive folder and read it into a Pandas DataFrame.\n",
        "\n",
        "Using the pandas cut method, bin the **weights of women** into the following groups:\n",
        "\n",
        "less than 100 pounds, 100-130, 130-160, 160-190, and over 190.\n",
        "\n",
        "Then use value_counts to find how many weights fall into each bin."
      ],
      "metadata": {
        "id": "QyoYR_By9m3l"
      },
      "id": "QyoYR_By9m3l"
    },
    {
      "cell_type": "code",
      "source": [
        "from google.colab import drive\n",
        "drive.mount('/content/drive')"
      ],
      "metadata": {
        "id": "UaUR5FtjxQSn",
        "colab": {
          "base_uri": "https://localhost:8080/"
        },
        "outputId": "24b4d9b0-1e9a-48ca-e1dd-fdcbad574eec"
      },
      "id": "UaUR5FtjxQSn",
      "execution_count": 22,
      "outputs": [
        {
          "output_type": "stream",
          "name": "stdout",
          "text": [
            "Drive already mounted at /content/drive; to attempt to forcibly remount, call drive.mount(\"/content/drive\", force_remount=True).\n"
          ]
        }
      ]
    },
    {
      "cell_type": "code",
      "source": [
        "file_path = '/content/drive/My Drive/DataManagement/data_files/weight-height.csv'\n",
        "\n",
        "# Read CSV from Google Drive\n",
        "df = pd.read_csv(file_path)\n",
        "\n",
        "# Select female weights\n",
        "women_weights = df[df['Gender'] == 'Female']['Weight']\n",
        "\n",
        "# Bin settings\n",
        "bins = [0, 100, 130, 160, 190, float('inf')]\n",
        "labels = ['<100', '100-130', '130-160', '160-190', '>190']\n",
        "\n",
        "# Bin the data\n",
        "weight_bins = pd.cut(women_weights, bins=bins, labels=labels, right=True, include_lowest=True)\n",
        "\n",
        "# Count per bin\n",
        "counts = weight_bins.value_counts().sort_index()\n",
        "\n",
        "print(counts)\n"
      ],
      "metadata": {
        "colab": {
          "base_uri": "https://localhost:8080/"
        },
        "id": "SjpD92MrCHNH",
        "outputId": "b6cf289c-538a-4072-d3d1-d7e396fd5342"
      },
      "id": "SjpD92MrCHNH",
      "execution_count": 23,
      "outputs": [
        {
          "output_type": "stream",
          "name": "stdout",
          "text": [
            "Weight\n",
            "<100        146\n",
            "100-130    1735\n",
            "130-160    2590\n",
            "160-190     518\n",
            ">190         11\n",
            "Name: count, dtype: int64\n"
          ]
        }
      ]
    },
    {
      "cell_type": "markdown",
      "source": [
        "## 3\n",
        "\n",
        "A company stores its sales data into three CSV files. \"customer.csv\", \"products.csv\", and \"sales.csv\", can be found in the Google Drive folder and read them into Pandas DataFrames.\n",
        "\n",
        "\"customer.csv\" -> DataFrame \"customer_df\"\\\n",
        "\"products.csv\" -> DataFrame \"products_df\"\\\n",
        "\"sales.csv\" -> DataFrame \"sales_df\"\n",
        "\n"
      ],
      "metadata": {
        "id": "z3hOLQh1xQyI"
      },
      "id": "z3hOLQh1xQyI"
    },
    {
      "cell_type": "markdown",
      "source": [
        "(1) Get the general information of ```sales_df```. Then change the column names of ```sales_df``` to uppercase letters. Then change 'C_ID' and 'P_ID' to 'CUSTOMER_ID' and 'PRODUCT_ID', respectively. (10%)"
      ],
      "metadata": {
        "id": "e4NsI47BySQy"
      },
      "id": "e4NsI47BySQy"
    },
    {
      "cell_type": "code",
      "source": [
        "file_path1='/content/drive/My Drive/DataManagement/data_files/customer.csv'\n",
        "customer_df = pd.read_csv(file_path1)\n",
        "file_path2='/content/drive/My Drive/DataManagement/data_files/products.csv'\n",
        "products_df = pd.read_csv(file_path2)\n",
        "file_path3='/content/drive/My Drive/DataManagement/data_files/sales.csv'\n",
        "sales_df = pd.read_csv(file_path3)\n",
        "\n",
        "\n",
        "print(sales_df.info())\n",
        "print(sales_df.head())\n",
        "\n",
        "# Change all column names to uppercase\n",
        "sales_df.columns = [col.upper() for col in sales_df.columns]\n",
        "\n",
        "# Change 'C_ID' to 'CUSTOMER_ID' and 'P_ID' to 'PRODUCT_ID'\n",
        "sales_df = sales_df.rename(columns={'C_ID': 'CUSTOMER_ID', 'P_ID': 'PRODUCT_ID'})\n",
        "print(sales_df.head())"
      ],
      "metadata": {
        "id": "yXmItxoO9QvB",
        "colab": {
          "base_uri": "https://localhost:8080/"
        },
        "outputId": "e33560e3-b7fa-41e9-90ad-3d6d69f0194c"
      },
      "id": "yXmItxoO9QvB",
      "execution_count": 50,
      "outputs": [
        {
          "output_type": "stream",
          "name": "stdout",
          "text": [
            "<class 'pandas.core.frame.DataFrame'>\n",
            "RangeIndex: 9 entries, 0 to 8\n",
            "Data columns (total 6 columns):\n",
            " #   Column   Non-Null Count  Dtype \n",
            "---  ------   --------------  ----- \n",
            " 0   sale_id  9 non-null      int64 \n",
            " 1   c_id     9 non-null      int64 \n",
            " 2   p_id     9 non-null      int64 \n",
            " 3   product  9 non-null      object\n",
            " 4   qty      9 non-null      int64 \n",
            " 5   store    9 non-null      object\n",
            "dtypes: int64(4), object(2)\n",
            "memory usage: 564.0+ bytes\n",
            "None\n",
            "   sale_id  c_id  p_id  product  qty store\n",
            "0        1     2     3  Monitor    2   ABC\n",
            "1        2     2     4      CPU    1   DEF\n",
            "2        3     1     3  Monitor    3   ABC\n",
            "3        4     4     2      RAM    2   DEF\n",
            "4        5     2     3  Monitor    3   ABC\n",
            "   SALE_ID  CUSTOMER_ID  PRODUCT_ID  PRODUCT  QTY STORE\n",
            "0        1            2           3  Monitor    2   ABC\n",
            "1        2            2           4      CPU    1   DEF\n",
            "2        3            1           3  Monitor    3   ABC\n",
            "3        4            4           2      RAM    2   DEF\n",
            "4        5            2           3  Monitor    3   ABC\n"
          ]
        }
      ]
    },
    {
      "cell_type": "markdown",
      "source": [
        "(2) In ```sales_df```, find the total sold quantity for each product. Show 3 columns, 'PRODUCT', 'PRODUCT_ID', and 'QTY'.\n",
        "\n"
      ],
      "metadata": {
        "id": "xPJOLoRLzJvI"
      },
      "id": "xPJOLoRLzJvI"
    },
    {
      "cell_type": "code",
      "source": [
        "products_df.columns = [col.upper() for col in products_df.columns]\n",
        "products_df = products_df.rename(columns={'P_ID': 'PRODUCT_ID'})\n",
        "print(products_df.head())"
      ],
      "metadata": {
        "colab": {
          "base_uri": "https://localhost:8080/"
        },
        "id": "aoVJVGpdL_zE",
        "outputId": "e3d05570-7e6f-4ee0-fdab-cfdbe968647c"
      },
      "id": "aoVJVGpdL_zE",
      "execution_count": 51,
      "outputs": [
        {
          "output_type": "stream",
          "name": "stdout",
          "text": [
            "   PRODUCT_ID    PRODUCT  PRICE/PIECE\n",
            "0           1  Hard Disk           80\n",
            "1           2        RAM           90\n",
            "2           3    Monitor           75\n",
            "3           4        CPU           55\n",
            "4           5   Keyboard           20\n"
          ]
        }
      ]
    },
    {
      "cell_type": "code",
      "source": [
        "# Get total quantity for each product\n",
        "product_qty = sales_df.groupby('PRODUCT_ID')['QTY'].sum().reset_index()\n",
        "\n",
        "# Merge with products_df to get product names\n",
        "result2 = pd.merge(product_qty, products_df, on='PRODUCT_ID')\n",
        "\n",
        "# Select the required columns and print\n",
        "result2 = result2[['PRODUCT', 'PRODUCT_ID', 'QTY']]\n",
        "print(result2)\n",
        "\n",
        "\n",
        "\n"
      ],
      "metadata": {
        "colab": {
          "base_uri": "https://localhost:8080/"
        },
        "id": "vP6hp483F_is",
        "outputId": "0021f934-355f-49f8-a0e5-9a4a5617148f"
      },
      "id": "vP6hp483F_is",
      "execution_count": 52,
      "outputs": [
        {
          "output_type": "stream",
          "name": "stdout",
          "text": [
            "   PRODUCT  PRODUCT_ID  QTY\n",
            "0      RAM           2    7\n",
            "1  Monitor           3   12\n",
            "2      CPU           4    1\n"
          ]
        }
      ]
    },
    {
      "cell_type": "markdown",
      "source": [
        "(3) In `sales_df`, find the total sold quantity for each product in each store. Show 4 columns, 'PRODUCT', 'PRODUCT_ID', 'STORE' and 'QTY'."
      ],
      "metadata": {
        "id": "VSn6fMtw3U_K"
      },
      "id": "VSn6fMtw3U_K"
    },
    {
      "cell_type": "code",
      "source": [
        "product_store_qty = sales_df.groupby(['PRODUCT_ID', 'STORE'])['QTY'].sum().reset_index()\n",
        "result3 = pd.merge(product_store_qty, products_df, left_on='PRODUCT_ID', right_on='PRODUCT_ID')\n",
        "result3 = result3[['PRODUCT', 'PRODUCT_ID', 'STORE', 'QTY']]\n",
        "print(result3)"
      ],
      "metadata": {
        "id": "SZxcBhDk9no4",
        "colab": {
          "base_uri": "https://localhost:8080/"
        },
        "outputId": "5923b3e3-adbd-40da-d2b8-8ef28ddaa239"
      },
      "id": "SZxcBhDk9no4",
      "execution_count": 53,
      "outputs": [
        {
          "output_type": "stream",
          "name": "stdout",
          "text": [
            "   PRODUCT  PRODUCT_ID STORE  QTY\n",
            "0      RAM           2   ABC    3\n",
            "1      RAM           2   DEF    4\n",
            "2  Monitor           3   ABC   10\n",
            "3  Monitor           3   DEF    2\n",
            "4      CPU           4   DEF    1\n"
          ]
        }
      ]
    },
    {
      "cell_type": "markdown",
      "source": [
        "(4) In ```sales_df``` and ```products_df```, find the total sales for each product. Show 2 columns, 'PRODUCT_ID' and 'Total_sale' (Total_sale = quantity * price/piece)."
      ],
      "metadata": {
        "id": "ODy8EEKP1ivt"
      },
      "id": "ODy8EEKP1ivt"
    },
    {
      "cell_type": "code",
      "source": [
        "# Merge sales and products to get price information\n",
        "merged = pd.merge(sales_df, products_df, on='PRODUCT_ID')\n",
        "# Calculate total sales per product\n",
        "result = merged.groupby('PRODUCT_ID').apply(lambda x: (x['QTY'] * x['PRICE/PIECE']).sum()).reset_index(name='Total_sale')\n",
        "print(result)\n"
      ],
      "metadata": {
        "id": "jqanwweR99gI",
        "colab": {
          "base_uri": "https://localhost:8080/"
        },
        "outputId": "cdb87030-b07b-4bbe-84a2-3e2b0c947d6e"
      },
      "id": "jqanwweR99gI",
      "execution_count": 54,
      "outputs": [
        {
          "output_type": "stream",
          "name": "stdout",
          "text": [
            "   PRODUCT_ID  Total_sale\n",
            "0           2         630\n",
            "1           3         900\n",
            "2           4          55\n"
          ]
        },
        {
          "output_type": "stream",
          "name": "stderr",
          "text": [
            "<ipython-input-54-2403089138>:4: DeprecationWarning: DataFrameGroupBy.apply operated on the grouping columns. This behavior is deprecated, and in a future version of pandas the grouping columns will be excluded from the operation. Either pass `include_groups=False` to exclude the groupings or explicitly select the grouping columns after groupby to silence this warning.\n",
            "  result = merged.groupby('PRODUCT_ID').apply(lambda x: (x['QTY'] * x['PRICE/PIECE']).sum()).reset_index(name='Total_sale')\n"
          ]
        }
      ]
    },
    {
      "cell_type": "markdown",
      "source": [
        "(5) In ```sales_df``` and ```products_df```, find the total sales in each store. Show 3 columns, 'STORE', 'QTY', and 'store_sales'."
      ],
      "metadata": {
        "id": "kb-MFfUw8Sog"
      },
      "id": "kb-MFfUw8Sog"
    },
    {
      "cell_type": "code",
      "source": [
        "# Using merged DataFrame from (4)\n",
        "store_sales = merged.groupby('STORE').apply(lambda x: pd.Series({\n",
        "    'QTY': x['QTY'].sum(),\n",
        "    'store_sales': (x['QTY'] * x['PRICE/PIECE']).sum()\n",
        "})).reset_index()\n",
        "print(store_sales[['STORE', 'QTY', 'store_sales']])\n",
        "\n"
      ],
      "metadata": {
        "id": "KpWhO_es-FQK",
        "colab": {
          "base_uri": "https://localhost:8080/"
        },
        "outputId": "6a28d89d-9ee5-4576-c11d-89a9a8f7408b"
      },
      "id": "KpWhO_es-FQK",
      "execution_count": 55,
      "outputs": [
        {
          "output_type": "stream",
          "name": "stdout",
          "text": [
            "  STORE  QTY  store_sales\n",
            "0   ABC   13         1020\n",
            "1   DEF    7          565\n"
          ]
        },
        {
          "output_type": "stream",
          "name": "stderr",
          "text": [
            "<ipython-input-55-324984242>:2: DeprecationWarning: DataFrameGroupBy.apply operated on the grouping columns. This behavior is deprecated, and in a future version of pandas the grouping columns will be excluded from the operation. Either pass `include_groups=False` to exclude the groupings or explicitly select the grouping columns after groupby to silence this warning.\n",
            "  store_sales = merged.groupby('STORE').apply(lambda x: pd.Series({\n"
          ]
        }
      ]
    },
    {
      "cell_type": "markdown",
      "source": [
        "(6) In ```sales_df``` and ```products_df```, find the products which are not sold yet.  Show 'PRODUCT_ID' and 'product'."
      ],
      "metadata": {
        "id": "fPcGOwPL-x6t"
      },
      "id": "fPcGOwPL-x6t"
    },
    {
      "cell_type": "code",
      "source": [
        "sold_products = sales_df['PRODUCT_ID'].unique()\n",
        "unsold = products_df[~products_df['PRODUCT_ID'].isin(sold_products)]\n",
        "print(unsold[['PRODUCT_ID', 'PRODUCT']])"
      ],
      "metadata": {
        "id": "DoKPECzo-J35",
        "colab": {
          "base_uri": "https://localhost:8080/"
        },
        "outputId": "505e6784-f7b7-478d-bd13-5adca5715780"
      },
      "id": "DoKPECzo-J35",
      "execution_count": 56,
      "outputs": [
        {
          "output_type": "stream",
          "name": "stdout",
          "text": [
            "   PRODUCT_ID       PRODUCT\n",
            "0           1     Hard Disk\n",
            "4           5      Keyboard\n",
            "5           6         Mouse\n",
            "6           7   Motherboard\n",
            "7           8  Power supply\n"
          ]
        }
      ]
    },
    {
      "cell_type": "markdown",
      "source": [
        "(7) In ```sales_df``` and ```customers_df```, find the customers who have not purchased any product. Show 2 columns \"CUSTOMER_ID\" and \"Customer\"."
      ],
      "metadata": {
        "id": "han9FsL3An-q"
      },
      "id": "han9FsL3An-q"
    },
    {
      "cell_type": "code",
      "source": [
        "customer_df.columns = [col.upper() for col in customer_df.columns]\n",
        "customer_df = customer_df.rename(columns={'C_ID': 'CUSTOMER_ID'})\n",
        "print(customer_df.head())"
      ],
      "metadata": {
        "colab": {
          "base_uri": "https://localhost:8080/"
        },
        "id": "dI7dG2laOd6Q",
        "outputId": "103e58f3-8ff7-4d13-df4c-f53de2a7b33d"
      },
      "id": "dI7dG2laOd6Q",
      "execution_count": 57,
      "outputs": [
        {
          "output_type": "stream",
          "name": "stdout",
          "text": [
            "   CUSTOMER_ID CUSTOMER\n",
            "0            1     Rabi\n",
            "1            2     Raju\n",
            "2            3     Alex\n",
            "3            4     Rani\n",
            "4            5     King\n"
          ]
        }
      ]
    },
    {
      "cell_type": "code",
      "source": [
        "purchased_customers = sales_df['CUSTOMER_ID'].unique()\n",
        "not_purchased = customer_df[~customer_df['CUSTOMER_ID'].isin(purchased_customers)]\n",
        "print(not_purchased[['CUSTOMER_ID', 'CUSTOMER']])\n"
      ],
      "metadata": {
        "id": "oGR3_bHH-SMx",
        "colab": {
          "base_uri": "https://localhost:8080/"
        },
        "outputId": "a9240a40-1b41-4176-afa4-fff9336efb43"
      },
      "id": "oGR3_bHH-SMx",
      "execution_count": 58,
      "outputs": [
        {
          "output_type": "stream",
          "name": "stdout",
          "text": [
            "   CUSTOMER_ID CUSTOMER\n",
            "4            5     King\n",
            "5            7     Ronn\n",
            "6            8      Jem\n",
            "7            9      Tom\n"
          ]
        }
      ]
    },
    {
      "cell_type": "markdown",
      "source": [
        "(8) In `products_df`, swap the first row and the last row. Swap the first column and the last column."
      ],
      "metadata": {
        "id": "rSHd-tXX4fPU"
      },
      "id": "rSHd-tXX4fPU"
    },
    {
      "cell_type": "code",
      "source": [
        "# Swap first and last rows\n",
        "products_swapped = products_df.copy()\n",
        "products_swapped.iloc[[0, -1]] = products_swapped.iloc[[-1, 0]].values\n",
        "# Swap first and last columns\n",
        "cols = products_swapped.columns.tolist()\n",
        "cols[0], cols[-1] = cols[-1], cols[0]\n",
        "products_swapped = products_swapped[cols]\n",
        "print(products_swapped)\n"
      ],
      "metadata": {
        "id": "MZ9kQZhz4cjP",
        "colab": {
          "base_uri": "https://localhost:8080/"
        },
        "outputId": "3feaf8de-52b2-4113-8b1b-c71bb798ea83"
      },
      "id": "MZ9kQZhz4cjP",
      "execution_count": 59,
      "outputs": [
        {
          "output_type": "stream",
          "name": "stdout",
          "text": [
            "   PRICE/PIECE       PRODUCT  PRODUCT_ID\n",
            "0           20  Power supply           8\n",
            "1           90           RAM           2\n",
            "2           75       Monitor           3\n",
            "3           55           CPU           4\n",
            "4           20      Keyboard           5\n",
            "5           10         Mouse           6\n",
            "6           50   Motherboard           7\n",
            "7           80     Hard Disk           1\n"
          ]
        }
      ]
    },
    {
      "cell_type": "markdown",
      "source": [
        "(9) Delete the column 'PRODUCT' in sales_df."
      ],
      "metadata": {
        "id": "uyY8ODC02eZv"
      },
      "id": "uyY8ODC02eZv"
    },
    {
      "cell_type": "code",
      "source": [
        "sales_df = sales_df.drop(columns=['PRODUCT'])"
      ],
      "metadata": {
        "id": "-UCGqJog5_4x"
      },
      "id": "-UCGqJog5_4x",
      "execution_count": null,
      "outputs": []
    },
    {
      "cell_type": "markdown",
      "source": [
        "## 4\n",
        "\n",
        " There is an excel file `stu_excel.xlsx` in the data folder.\n"
      ],
      "metadata": {
        "id": "F1Xfe0zp6X2k"
      },
      "id": "F1Xfe0zp6X2k"
    },
    {
      "cell_type": "markdown",
      "source": [
        "(1) Read the content in this file to a dataframe `df_stu`"
      ],
      "metadata": {
        "id": "ZhuCjIJv7Ao-"
      },
      "id": "ZhuCjIJv7Ao-"
    },
    {
      "cell_type": "code",
      "source": [
        "file_path4 = '/content/drive/My Drive/DataManagement/data_files/stu_excel.xlsx'\n",
        "\n",
        "# Read CSV from Google Drive\n",
        "df_stu = pd.read_excel(file_path4,header=2)\n",
        "print(df_stu)"
      ],
      "metadata": {
        "id": "gFDUZE9T7GuA",
        "colab": {
          "base_uri": "https://localhost:8080/"
        },
        "outputId": "7e3f993e-be32-44ce-8e27-1e2e3f3959b6"
      },
      "id": "gFDUZE9T7GuA",
      "execution_count": 63,
      "outputs": [
        {
          "output_type": "stream",
          "name": "stdout",
          "text": [
            "    Unnamed: 0    ID      Course  Grade\n",
            "0          NaN  ab12         DMA   85.0\n",
            "1          NaN   NaN  Algorithms   95.0\n",
            "2          NaN   NaN      French   97.0\n",
            "3          NaN   NaN         NaN    NaN\n",
            "4          NaN  bc23         DMA   99.0\n",
            "5          NaN   NaN  Algorithms    NaN\n",
            "6          NaN   NaN      French   90.0\n",
            "7          NaN   NaN         NaN    NaN\n",
            "8          NaN  cd45         DMA   99.0\n",
            "9          NaN   NaN  Algorithms   98.0\n",
            "10         NaN   NaN      French   96.0\n"
          ]
        }
      ]
    },
    {
      "cell_type": "markdown",
      "source": [
        "(2) Remove the first column. Replace all the nulls to empty string ''."
      ],
      "metadata": {
        "id": "l2iO9_Y17HLe"
      },
      "id": "l2iO9_Y17HLe"
    },
    {
      "cell_type": "code",
      "source": [
        "# Remove the first column\n",
        "df_stu = df_stu.iloc[:, 1:]\n",
        "\n",
        "# Replace all NaNs (nulls) with empty string \"\"\n",
        "df_stu = df_stu.fillna(\"\")\n",
        "\n",
        "print(df_stu)"
      ],
      "metadata": {
        "id": "4rNQe8A27Ksn",
        "colab": {
          "base_uri": "https://localhost:8080/"
        },
        "outputId": "833e8ecc-ecf5-4c58-db7e-dcce7064a355"
      },
      "id": "4rNQe8A27Ksn",
      "execution_count": 64,
      "outputs": [
        {
          "output_type": "stream",
          "name": "stdout",
          "text": [
            "      ID      Course Grade\n",
            "0   ab12         DMA  85.0\n",
            "1         Algorithms  95.0\n",
            "2             French  97.0\n",
            "3                         \n",
            "4   bc23         DMA  99.0\n",
            "5         Algorithms      \n",
            "6             French  90.0\n",
            "7                         \n",
            "8   cd45         DMA  99.0\n",
            "9         Algorithms  98.0\n",
            "10            French  96.0\n"
          ]
        }
      ]
    },
    {
      "cell_type": "markdown",
      "source": [
        "(3) In column `Grade`, there is one missing `Grade` for `Algorithms`. Replace that cell with the mean grade of Algorithms."
      ],
      "metadata": {
        "id": "FdtbqyQS7LDT"
      },
      "id": "FdtbqyQS7LDT"
    },
    {
      "cell_type": "code",
      "source": [
        "mask_algo = df_stu['Course'] == 'Algorithms'\n",
        "mean_grade = pd.to_numeric(df_stu.loc[mask_algo & (df_stu['Grade'] != \"\"), 'Grade']).mean()\n",
        "df_stu.loc[mask_algo & (df_stu['Grade'] == \"\"), 'Grade'] = mean_grade\n",
        "print(df_stu)\n"
      ],
      "metadata": {
        "id": "N0DmpQ2D7PJg",
        "colab": {
          "base_uri": "https://localhost:8080/"
        },
        "outputId": "d21d2206-2803-4a33-d09e-de59cc1324c4"
      },
      "id": "N0DmpQ2D7PJg",
      "execution_count": 65,
      "outputs": [
        {
          "output_type": "stream",
          "name": "stdout",
          "text": [
            "      ID      Course Grade\n",
            "0   ab12         DMA  85.0\n",
            "1         Algorithms  95.0\n",
            "2             French  97.0\n",
            "3                         \n",
            "4   bc23         DMA  99.0\n",
            "5         Algorithms  96.5\n",
            "6             French  90.0\n",
            "7                         \n",
            "8   cd45         DMA  99.0\n",
            "9         Algorithms  98.0\n",
            "10            French  96.0\n"
          ]
        }
      ]
    }
  ],
  "metadata": {
    "kernelspec": {
      "display_name": "Python 3 (ipykernel)",
      "language": "python",
      "name": "python3"
    },
    "language_info": {
      "codemirror_mode": {
        "name": "ipython",
        "version": 3
      },
      "file_extension": ".py",
      "mimetype": "text/x-python",
      "name": "python",
      "nbconvert_exporter": "python",
      "pygments_lexer": "ipython3",
      "version": "3.10.9"
    },
    "colab": {
      "provenance": [],
      "include_colab_link": true
    }
  },
  "nbformat": 4,
  "nbformat_minor": 5
}