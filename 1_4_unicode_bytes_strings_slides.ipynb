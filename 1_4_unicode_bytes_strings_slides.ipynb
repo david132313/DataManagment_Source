{
  "cells": [
    {
      "cell_type": "markdown",
      "metadata": {
        "id": "view-in-github",
        "colab_type": "text"
      },
      "source": [
        "<a href=\"https://colab.research.google.com/github/david132313/DataManagment_Source/blob/main/1_4_unicode_bytes_strings_slides.ipynb\" target=\"_parent\"><img src=\"https://colab.research.google.com/assets/colab-badge.svg\" alt=\"Open In Colab\"/></a>"
      ]
    },
    {
      "cell_type": "markdown",
      "metadata": {
        "id": "LpE8eZRdq3wt"
      },
      "source": [
        "# Unicode, Encoding, Bytes and Strings\n",
        "\n"
      ]
    },
    {
      "cell_type": "markdown",
      "source": [
        "## ASCII and Unicode\n",
        "\n",
        "In the early days of computing, computers could only store a limited number of characters, as found in the ASCII code table. More recently, using Unicode, it has been possible to store many more characters like, for instance, non-western alphabets, Chinese characters, and emoji. Often our datasets contain a wide variety of Unicode characters. So that is why we are looking into how Unicode works."
      ],
      "metadata": {
        "id": "nqZHDa4kPBM1"
      }
    },
    {
      "cell_type": "markdown",
      "metadata": {
        "id": "Y1J8LtvXq3ww"
      },
      "source": [
        "## How Does a Computer Store Data?\n",
        "\n",
        "Bits! ... 0's and 1's.\n",
        "\n",
        "How do we encode numbers into 0's and 1's... what about characters?"
      ]
    },
    {
      "cell_type": "markdown",
      "metadata": {
        "id": "qF7ozN2Dq3wx"
      },
      "source": [
        "## Straightforward for Numbers: Binary!"
      ]
    },
    {
      "cell_type": "markdown",
      "metadata": {
        "id": "AdpmJiwDq3wx"
      },
      "source": [
        "* use some set number of bits to represent:\n",
        "* whole numbers... or floating point numbers\n",
        "* maybe some bits can be reserved for:\n",
        "    * where to place decimal point\n",
        "    * positive or negative\n",
        "* need to represent more values? add more bits!"
      ]
    },
    {
      "cell_type": "markdown",
      "metadata": {
        "id": "rq631isIq3wy"
      },
      "source": [
        "## A Refresher\n",
        "\n",
        "__Do you remember how binary numbers work?__ &rarr;"
      ]
    },
    {
      "cell_type": "markdown",
      "metadata": {
        "id": "d5bZE1Wwq3wy"
      },
      "source": [
        "* a __binary number__ is composed of bits\n",
        "* a __bit__ can contain a 0 or 1\n",
        "* a __byte__ is 8 bits\n",
        "* in a byte (assuming a specific architecture), the least significant bit (last bit) is the number of 2^0 or 1's, follwed by 2's, 4's, 8's, 16's, etc.\n",
        "* the most significant bit in a byte is 128's\n",
        "* to calculate the value in based 10, sum the prodcuts of the bits and their places"
      ]
    },
    {
      "cell_type": "markdown",
      "metadata": {
        "id": "maCPhDplq3w0"
      },
      "source": [
        "## An Example\n",
        "\n",
        "__What is `10000011` in decimal__ &rarr;"
      ]
    },
    {
      "cell_type": "markdown",
      "metadata": {
        "id": "wYyHH1yeq3w1"
      },
      "source": [
        "\n",
        "```\n",
        "1   | 0   | 0   | 0   | 0   | 0   | 1   | 1\n",
        "----+-----+-----+-----+-----+-----+-----+-----\n",
        "2^7 | 2^6 | 2^5 | 2^4 | 2^3 | 2^2 | 2^1 | 2^0\n",
        "128 | 64  | 32  | 16  | 8   | 4   | 2   | 1\n",
        "```\n",
        "\n",
        "```\n",
        "(1 * 128) + (1 * 2) + (1 * 1)\n",
        "```\n",
        "\n",
        "```\n",
        "10000011 = 131\n",
        "```"
      ]
    },
    {
      "cell_type": "markdown",
      "metadata": {
        "id": "8GJjC777q3w1"
      },
      "source": [
        "## Some Useful Tools\n",
        "\n",
        "You can use `int` and `format` to convert binary to decimal and decimal to binary:"
      ]
    },
    {
      "cell_type": "code",
      "execution_count": null,
      "metadata": {
        "id": "fGKVKUT8q3w2",
        "colab": {
          "base_uri": "https://localhost:8080/"
        },
        "outputId": "1fed354d-47ae-493a-de37-fc9d988f84b7"
      },
      "outputs": [
        {
          "output_type": "execute_result",
          "data": {
            "text/plain": [
              "131"
            ]
          },
          "metadata": {},
          "execution_count": 1
        }
      ],
      "source": [
        "int('10000011',2)"
      ]
    },
    {
      "cell_type": "code",
      "execution_count": null,
      "metadata": {
        "id": "qd7bjAK9q3w3",
        "colab": {
          "base_uri": "https://localhost:8080/"
        },
        "outputId": "ec22f1f1-5c9a-4921-aba1-643192c6658b"
      },
      "outputs": [
        {
          "output_type": "execute_result",
          "data": {
            "text/plain": [
              "4"
            ]
          },
          "metadata": {},
          "execution_count": 2
        }
      ],
      "source": [
        "int('100', 2)"
      ]
    },
    {
      "cell_type": "code",
      "source": [
        "\n",
        "format(131,'b')"
      ],
      "metadata": {
        "id": "fXNQWFCAK1Oy",
        "colab": {
          "base_uri": "https://localhost:8080/",
          "height": 35
        },
        "outputId": "f539f0c3-6133-4bce-fe44-d4e8a6fcecf2"
      },
      "execution_count": null,
      "outputs": [
        {
          "output_type": "execute_result",
          "data": {
            "text/plain": [
              "'10000011'"
            ],
            "application/vnd.google.colaboratory.intrinsic+json": {
              "type": "string"
            }
          },
          "metadata": {},
          "execution_count": 3
        }
      ]
    },
    {
      "cell_type": "code",
      "source": [
        "format(4,'b')"
      ],
      "metadata": {
        "id": "jgHLVGtqKuxk",
        "colab": {
          "base_uri": "https://localhost:8080/",
          "height": 35
        },
        "outputId": "b7cc8f94-a13a-4db9-b572-2c9c444cc638"
      },
      "execution_count": null,
      "outputs": [
        {
          "output_type": "execute_result",
          "data": {
            "text/plain": [
              "'100'"
            ],
            "application/vnd.google.colaboratory.intrinsic+json": {
              "type": "string"
            }
          },
          "metadata": {},
          "execution_count": 4
        }
      ]
    },
    {
      "cell_type": "markdown",
      "metadata": {
        "id": "DQ3unAfmq3w7"
      },
      "source": [
        "## Converting to Binary, Octal, and Hexadecimal"
      ]
    },
    {
      "cell_type": "code",
      "source": [],
      "metadata": {
        "id": "z5BfdBcrolNj"
      },
      "execution_count": null,
      "outputs": []
    },
    {
      "cell_type": "code",
      "execution_count": null,
      "metadata": {
        "id": "hTvvQV4Tq3w7",
        "colab": {
          "base_uri": "https://localhost:8080/",
          "height": 35
        },
        "outputId": "3d292353-6603-4c68-cfdb-5b2089a6a41c"
      },
      "outputs": [
        {
          "output_type": "execute_result",
          "data": {
            "text/plain": [
              "'0b10000011'"
            ],
            "application/vnd.google.colaboratory.intrinsic+json": {
              "type": "string"
            }
          },
          "metadata": {},
          "execution_count": 5
        }
      ],
      "source": [
        "bin(131)"
      ]
    },
    {
      "cell_type": "code",
      "execution_count": null,
      "metadata": {
        "id": "oJiPB2FUq3w8",
        "colab": {
          "base_uri": "https://localhost:8080/"
        },
        "outputId": "bba75a16-2b74-4d4f-fbf8-911eecd7a69e"
      },
      "outputs": [
        {
          "output_type": "execute_result",
          "data": {
            "text/plain": [
              "131"
            ]
          },
          "metadata": {},
          "execution_count": 6
        }
      ],
      "source": [
        "int('10000011',2)"
      ]
    },
    {
      "cell_type": "code",
      "execution_count": null,
      "metadata": {
        "id": "aawPR0KZq3w8",
        "colab": {
          "base_uri": "https://localhost:8080/",
          "height": 35
        },
        "outputId": "af639e41-7594-44c4-ea30-df794e3d1acd"
      },
      "outputs": [
        {
          "output_type": "execute_result",
          "data": {
            "text/plain": [
              "'0o203'"
            ],
            "application/vnd.google.colaboratory.intrinsic+json": {
              "type": "string"
            }
          },
          "metadata": {},
          "execution_count": 7
        }
      ],
      "source": [
        "oct(131)"
      ]
    },
    {
      "cell_type": "code",
      "execution_count": null,
      "metadata": {
        "id": "WLbaS1lnq3w8",
        "colab": {
          "base_uri": "https://localhost:8080/"
        },
        "outputId": "c5fe5897-fe3b-436c-fdea-52ad043c791f"
      },
      "outputs": [
        {
          "output_type": "execute_result",
          "data": {
            "text/plain": [
              "131"
            ]
          },
          "metadata": {},
          "execution_count": 8
        }
      ],
      "source": [
        "int('203',8)"
      ]
    },
    {
      "cell_type": "code",
      "execution_count": null,
      "metadata": {
        "id": "5-9P2wjNq3w8",
        "colab": {
          "base_uri": "https://localhost:8080/",
          "height": 35
        },
        "outputId": "bff8e195-ddcd-45af-964b-a2d88d5a3202"
      },
      "outputs": [
        {
          "output_type": "execute_result",
          "data": {
            "text/plain": [
              "'0x83'"
            ],
            "application/vnd.google.colaboratory.intrinsic+json": {
              "type": "string"
            }
          },
          "metadata": {},
          "execution_count": 9
        }
      ],
      "source": [
        "hex(131)"
      ]
    },
    {
      "cell_type": "code",
      "execution_count": null,
      "metadata": {
        "id": "0nU6pSroq3w9",
        "colab": {
          "base_uri": "https://localhost:8080/"
        },
        "outputId": "35dbffb6-7dc2-4591-8969-ab33cb9862e8"
      },
      "outputs": [
        {
          "output_type": "execute_result",
          "data": {
            "text/plain": [
              "131"
            ]
          },
          "metadata": {},
          "execution_count": 10
        }
      ],
      "source": [
        "int('83',16)"
      ]
    },
    {
      "cell_type": "markdown",
      "source": [
        "Exercise\n",
        "\n",
        "1001 in Decimal is what in Hex? (Use Python to figure it out!)"
      ],
      "metadata": {
        "id": "zuDofe-b2ieO"
      }
    },
    {
      "cell_type": "code",
      "source": [
        "hex(int('1001',2))"
      ],
      "metadata": {
        "colab": {
          "base_uri": "https://localhost:8080/",
          "height": 35
        },
        "id": "HPG_pH68IDyC",
        "outputId": "957f49f4-5b3b-42dd-aa4d-ca337fb54070"
      },
      "execution_count": null,
      "outputs": [
        {
          "output_type": "execute_result",
          "data": {
            "text/plain": [
              "'0x9'"
            ],
            "application/vnd.google.colaboratory.intrinsic+json": {
              "type": "string"
            }
          },
          "metadata": {},
          "execution_count": 11
        }
      ]
    },
    {
      "cell_type": "markdown",
      "metadata": {
        "id": "YS3ZML4Mq3w9"
      },
      "source": [
        "## For Text: Map Numbers to Characters"
      ]
    },
    {
      "cell_type": "markdown",
      "metadata": {
        "id": "Y8sPbTFiq3w-"
      },
      "source": [
        "Map numbers representing ASCII codes to corresponding characters...\n",
        "\n",
        "* ASCII: American Standard Code for Information Interchange\n",
        "* for example: 65 -> A\n",
        "* you may have a table of mappings from code points to characters (something like [http://www.asciitable.com](http://www.asciitable.com))\n",
        "* those mappings have to be encoded into (some number of) bits"
      ]
    },
    {
      "cell_type": "markdown",
      "metadata": {
        "id": "e_U2zcrQq3w-"
      },
      "source": [
        "## To convert back and forth, use ord and chr"
      ]
    },
    {
      "cell_type": "code",
      "execution_count": null,
      "metadata": {
        "id": "rnN8I7gGq3w-",
        "colab": {
          "base_uri": "https://localhost:8080/"
        },
        "outputId": "aaf6a9e3-3a56-463c-f90a-171f9a779a5e"
      },
      "outputs": [
        {
          "output_type": "stream",
          "name": "stdout",
          "text": [
            "65\n",
            "A\n"
          ]
        }
      ],
      "source": [
        "# ord and chr will convert to and from a character and code\n",
        "# point\n",
        "print(ord('A'))\n",
        "print(chr(65))"
      ]
    },
    {
      "cell_type": "markdown",
      "metadata": {
        "id": "DAwzKMLoq3w_"
      },
      "source": [
        "## ASCII"
      ]
    },
    {
      "cell_type": "markdown",
      "metadata": {
        "id": "44rZfUAYq3xA"
      },
      "source": [
        "* ASCII is encoded using 7 bits (or 8 for extended!)\n",
        "    * this is ~ 128 different values\n",
        "    * good for Western languages without diacritical marks: a-z, A-Z, 0-9 etc., e.g. English\n",
        "    * not so good even for French\n",
        "    * not so good for languages that use different character sets\n",
        "    * some languages (e.g. Chinese) contain thousands of different changes\n",
        "    * not so good if you want to send 🤢 or other emoji\n",
        "* ASCII is both the name of the mapping and name of the encoding"
      ]
    },
    {
      "cell_type": "markdown",
      "metadata": {
        "id": "wDFI_h0Oq3xA"
      },
      "source": [
        "## _Other Encodings_\n",
        "\n",
        "* Because ASCII was limited, [many other encodings](https://en.wikipedia.org/wiki/Character_encoding#Common_character_encodings) were developed.\n",
        "* These encodings weren't guaranteed to have common mappings, even if they were meant to represent the same character set!\n",
        "\n",
        "__What to do?__"
      ]
    },
    {
      "cell_type": "markdown",
      "metadata": {
        "id": "2AIVYQb6q3xA"
      },
      "source": [
        "## Code Points\n",
        "\n",
        "A code point is a particular numerical value that is used in a particular encoding. For instance, 7-bit ASCII has 128  code points from 0 to 7F (hex). 8-bit (extended) ASCII has 256 from 0 to FF (hex)"
      ]
    },
    {
      "cell_type": "markdown",
      "metadata": {
        "id": "J81zX3pnq3xA"
      },
      "source": [
        "## Unicode\n",
        "\n",
        "Unicode is the name of a mapping of _code points_ only (it does not specify encoding!). It can represent over 1 million characters! Everything from Cyrillic to all of your favorite emoji.\n"
      ]
    },
    {
      "cell_type": "markdown",
      "metadata": {
        "id": "uDjJaJOnq3xA"
      },
      "source": [
        "\n",
        "## More Unicode\n",
        "The links below show some tables. Code points may be represented in binary, decimal, and hexidecimal. Many tables use hexadecimal... but resulting code point is still same value.\n",
        "\n",
        "* unicode.org has all the charts: [https://unicode.org/charts/](https://unicode.org/charts/)\n",
        "* the first 128 characters are backward compatible with ASCII: [https://unicode.org/charts/PDF/U0000.pdf](https://unicode.org/charts/PDF/U0000.pdf)\n",
        "* here are some emoji mappings if want 'em 🙏: [https://unicode.org/emoji/charts/full-emoji-list.html](https://unicode.org/emoji/charts/full-emoji-list.html)\n",
        "\n"
      ]
    },
    {
      "cell_type": "markdown",
      "metadata": {
        "id": "nf7M2GYxq3xB"
      },
      "source": [
        "## Encodings for Unicode\n",
        "\n",
        "Again, unicode is just the name of the mapping from code points to characters. Want to actually _encode_ a character? You have some choices:"
      ]
    },
    {
      "cell_type": "markdown",
      "metadata": {
        "id": "DJ3mCK-8q3xB"
      },
      "source": [
        "* `utf-8`: variable length (1 to 4 bytes)\n",
        "* `utf-16`: (2 bytes or 4 bytes)\n",
        "* `utf-32`: (4 bytes)"
      ]
    },
    {
      "cell_type": "markdown",
      "metadata": {
        "id": "KekkYOguq3xB"
      },
      "source": [
        "## utf-8\n",
        "\n",
        "Can store characters in 1 byte or as many as 4 bytes (variable length encoding)\n",
        "\n",
        "* even though there are only 8 bits in 1 byte, can represent other unicode characters by adding additional bytes\n",
        "* higher bytes (left most) specify whether or not other bytes should be combined\n",
        "* for example, if left-most bit is 0, then character can be represented by a single byte\n",
        "* if first bit is 1, then multiple bytes needed to represent character!"
      ]
    },
    {
      "cell_type": "markdown",
      "metadata": {
        "id": "xbRCB4Teq3xB"
      },
      "source": [
        "## utf-8, Multiple Bytes\n",
        "\n",
        "* starting with 0xxxxxxx means one byte needed\n",
        "* starting with 110xxxxx means two bytes needed\n",
        "* starting with 1110xxxx means three bytes needed\n",
        "* starting with 11110xxx means four bytes needed"
      ]
    },
    {
      "cell_type": "markdown",
      "metadata": {
        "id": "zttc4tM6q3xC"
      },
      "source": [
        "## utf-8, Multiple Bytes\n",
        "\n",
        "* number of 1's specifies number of bytes to represent character\n",
        "* additional / continuation bytes are prefixed with 10\n",
        "* so, take the binary representation of a code point and fill in the x's\n",
        "* for something that needs 4 bytes to represent:\n",
        "    * `11110xxx` `10xxxxxx` `10xxxxxx` `10xxxxxx`\n",
        "    * first 4 1's and 0 mean 4 bytes\n",
        "    * remaining 3 bytes are prefixed with 10\n",
        "    * fill in x's with bits from binary representation of code point"
      ]
    },
    {
      "cell_type": "markdown",
      "metadata": {
        "id": "hwjG0Y7hq3xC"
      },
      "source": [
        "## Before We Go On... Strings, chr, ord, Bytes, and Strings vs Bytes"
      ]
    },
    {
      "cell_type": "markdown",
      "metadata": {
        "id": "kcMCViHQq3xC"
      },
      "source": [
        "## Strings\n",
        "\n",
        "From the docs: \"The default encoding for Python source code is UTF-8, so you can simply include a Unicode character in a string literal\"... see below ..."
      ]
    },
    {
      "cell_type": "code",
      "execution_count": null,
      "metadata": {
        "id": "vfte3bLGq3xC",
        "colab": {
          "base_uri": "https://localhost:8080/"
        },
        "outputId": "91f7b85b-90d1-449b-c5cc-bdb6f61b4d8a"
      },
      "outputs": [
        {
          "output_type": "stream",
          "name": "stdout",
          "text": [
            "also a string ☃\n",
            "<class 'str'>\n",
            "9731\n"
          ]
        }
      ],
      "source": [
        "s = \"this is clearly a string\"\n",
        "s2 = \"also a string ☃\"\n",
        "print(s2)\n",
        "print(type(s2))\n",
        "print(ord(s2[-1]))"
      ]
    },
    {
      "cell_type": "code",
      "execution_count": null,
      "metadata": {
        "id": "tdjIo1iOq3xD",
        "colab": {
          "base_uri": "https://localhost:8080/"
        },
        "outputId": "421f5e6e-11c0-42dd-d189-e96ed1737674"
      },
      "outputs": [
        {
          "output_type": "stream",
          "name": "stdout",
          "text": [
            "not sure 🙃\n",
            "<class 'str'>\n"
          ]
        }
      ],
      "source": [
        "s3 = \"not sure 🙃\"\n",
        "print(s3)\n",
        "print(type(s3))"
      ]
    },
    {
      "cell_type": "code",
      "execution_count": null,
      "metadata": {
        "id": "htjMRNJhq3xD",
        "colab": {
          "base_uri": "https://localhost:8080/",
          "height": 209
        },
        "outputId": "d195a82b-317c-42e8-deda-3979a7f13993"
      },
      "outputs": [
        {
          "output_type": "stream",
          "name": "stdout",
          "text": [
            "n 110\n",
            "o 111\n",
            "t 116\n",
            "  32\n",
            "s 115\n",
            "u 117\n",
            "r 114\n",
            "e 101\n",
            "  32\n",
            "🙃 128579\n"
          ]
        },
        {
          "output_type": "execute_result",
          "data": {
            "text/plain": [
              "'🙃'"
            ],
            "application/vnd.google.colaboratory.intrinsic+json": {
              "type": "string"
            }
          },
          "metadata": {},
          "execution_count": 15
        }
      ],
      "source": [
        "for c in s3:\n",
        "    print(c,ord(c))\n",
        "chr(128579)"
      ]
    },
    {
      "cell_type": "markdown",
      "metadata": {
        "id": "vSfDg9K2q3xE"
      },
      "source": [
        "## chr and ord\n",
        "\n",
        "__What do these two built-in functions do again__?"
      ]
    },
    {
      "cell_type": "markdown",
      "metadata": {
        "id": "Ky61Ql-Zq3xE"
      },
      "source": [
        "They map unicode characters to and from unicode code points (numbers):\n",
        "    \n",
        "* `ord` - returns the unicode code point of the character passed in\n",
        "* `chr` - returns the character that the code point passed in maps to\n",
        "\n",
        "```\n",
        "ord('A') # 65\n",
        "chr(65) # B\n",
        "```\n",
        "\n",
        "These two functions handle mapping a number to a character."
      ]
    },
    {
      "cell_type": "markdown",
      "source": [
        "**Question**\n",
        "\n",
        "# Utf-8 uses\n",
        "\n",
        "* 2 bytes per character\n",
        "* 3 bytes per character\n",
        "* A variable number of bytes per character\n",
        "* 8 bytes per character\n"
      ],
      "metadata": {
        "id": "cuIlJb2r3syh"
      }
    },
    {
      "cell_type": "markdown",
      "metadata": {
        "id": "buSgVcxGq3xE"
      },
      "source": [
        "## bytes Objects\n",
        "\n",
        "__If we want to deal with how character data is actually stored in bits/bytes, we can work with a `bytes` object:__\n",
        "\n",
        "From Python docs: \"Bytes objects are immutable sequences of single bytes.\" ...\n",
        "\n",
        "__one way to do this is with a sequence (for example, a list) of ints `0` - `255`__"
      ]
    },
    {
      "cell_type": "code",
      "execution_count": null,
      "metadata": {
        "id": "H65UkdUUq3xE",
        "colab": {
          "base_uri": "https://localhost:8080/"
        },
        "outputId": "889f3834-9452-4cd2-a4e9-bebb7e02415b"
      },
      "outputs": [
        {
          "output_type": "stream",
          "name": "stdout",
          "text": [
            "b'CAB'\n",
            "<class 'bytes'>\n"
          ]
        }
      ],
      "source": [
        "b = bytes([67, 65, 66])\n",
        "print(b)\n",
        "print(type(b))"
      ]
    },
    {
      "cell_type": "code",
      "execution_count": null,
      "metadata": {
        "id": "_y-hJ0mJq3xE",
        "colab": {
          "base_uri": "https://localhost:8080/"
        },
        "outputId": "2fb07936-e6b3-4f94-cb91-b0ab9b39a24d"
      },
      "outputs": [
        {
          "output_type": "stream",
          "name": "stdout",
          "text": [
            "67\n",
            "65\n",
            "66\n"
          ]
        }
      ],
      "source": [
        "for c in \"CAB\":\n",
        "    print(ord(c))"
      ]
    },
    {
      "cell_type": "markdown",
      "metadata": {
        "id": "aWLrvzkKq3xE"
      },
      "source": [
        "## bytes Can Also Simply be Created with Strings"
      ]
    },
    {
      "cell_type": "code",
      "execution_count": null,
      "metadata": {
        "id": "sfiPhPcVq3xE",
        "colab": {
          "base_uri": "https://localhost:8080/"
        },
        "outputId": "829f36aa-2a79-46d1-cc6a-af829704ef52"
      },
      "outputs": [
        {
          "output_type": "stream",
          "name": "stdout",
          "text": [
            "67\n",
            "65\n",
            "66\n"
          ]
        }
      ],
      "source": [
        "for c in b\"CAB\":\n",
        "    print(c)"
      ]
    },
    {
      "cell_type": "code",
      "execution_count": null,
      "metadata": {
        "id": "3gE_t-cQq3xF"
      },
      "outputs": [],
      "source": [
        "h1 = b\"hello\""
      ]
    },
    {
      "cell_type": "code",
      "execution_count": null,
      "metadata": {
        "id": "bZphx_h8q3xF",
        "colab": {
          "base_uri": "https://localhost:8080/"
        },
        "outputId": "36ec90fa-190f-485c-dc39-04517747151c"
      },
      "outputs": [
        {
          "output_type": "execute_result",
          "data": {
            "text/plain": [
              "104"
            ]
          },
          "metadata": {},
          "execution_count": 20
        }
      ],
      "source": [
        "h1[0]"
      ]
    },
    {
      "cell_type": "code",
      "source": [
        "h2=\"hello\"\n",
        "l=[ord(c) for c in h2]\n",
        "print(l)\n",
        "h3=bytes(l)\n",
        "print(h3)\n",
        "print(h3[0])\n",
        "print(h1==h3)"
      ],
      "metadata": {
        "colab": {
          "base_uri": "https://localhost:8080/"
        },
        "id": "26hREtsR4D1v",
        "outputId": "264cd17f-cc0c-402f-96d9-5cb98b4574e8"
      },
      "execution_count": null,
      "outputs": [
        {
          "output_type": "stream",
          "name": "stdout",
          "text": [
            "[104, 101, 108, 108, 111]\n",
            "b'hello'\n",
            "104\n",
            "True\n"
          ]
        }
      ]
    },
    {
      "cell_type": "code",
      "execution_count": null,
      "metadata": {
        "id": "OAuyBk4vq3xF",
        "colab": {
          "base_uri": "https://localhost:8080/"
        },
        "outputId": "00007f9f-352b-4939-f13b-0032caf787bb"
      },
      "outputs": [
        {
          "output_type": "execute_result",
          "data": {
            "text/plain": [
              "104"
            ]
          },
          "metadata": {},
          "execution_count": 22
        }
      ],
      "source": [
        "ord('h')"
      ]
    },
    {
      "cell_type": "code",
      "source": [
        "print(b+h3)"
      ],
      "metadata": {
        "colab": {
          "base_uri": "https://localhost:8080/"
        },
        "id": "JbU8v6l25tET",
        "outputId": "e5b36149-23d1-40b5-f974-67fc8b0ea127"
      },
      "execution_count": null,
      "outputs": [
        {
          "output_type": "stream",
          "name": "stdout",
          "text": [
            "b'CABhello'\n"
          ]
        }
      ]
    },
    {
      "cell_type": "markdown",
      "metadata": {
        "id": "HxzTOQxoq3xF"
      },
      "source": [
        "## Wait, Isn't That Just a String?"
      ]
    },
    {
      "cell_type": "code",
      "execution_count": null,
      "metadata": {
        "id": "LSYok9w2q3xF",
        "colab": {
          "base_uri": "https://localhost:8080/"
        },
        "outputId": "df6e706e-2751-4f82-fa2a-8fd310f62b8e"
      },
      "outputs": [
        {
          "output_type": "stream",
          "name": "stdout",
          "text": [
            "<class 'TypeError'> can't concat str to bytes\n"
          ]
        }
      ],
      "source": [
        "try:\n",
        "    b + '!!!!!'\n",
        "except TypeError as e:\n",
        "    print(type(e), e)"
      ]
    },
    {
      "cell_type": "code",
      "execution_count": null,
      "metadata": {
        "id": "Pzw6nP-Bq3xF",
        "colab": {
          "base_uri": "https://localhost:8080/"
        },
        "outputId": "4c35f9aa-3bc1-423b-ff11-cdb40c5310f5"
      },
      "outputs": [
        {
          "output_type": "execute_result",
          "data": {
            "text/plain": [
              "bytes"
            ]
          },
          "metadata": {},
          "execution_count": 25
        }
      ],
      "source": [
        "type(b)"
      ]
    },
    {
      "cell_type": "code",
      "source": [
        "b.decode(\"utf-8\")+'!!!!!'"
      ],
      "metadata": {
        "id": "G-hIaHuARHeE",
        "colab": {
          "base_uri": "https://localhost:8080/",
          "height": 35
        },
        "outputId": "754a89f5-163d-410b-ab0f-be9f620a02f1"
      },
      "execution_count": null,
      "outputs": [
        {
          "output_type": "execute_result",
          "data": {
            "text/plain": [
              "'CAB!!!!!'"
            ],
            "application/vnd.google.colaboratory.intrinsic+json": {
              "type": "string"
            }
          },
          "metadata": {},
          "execution_count": 26
        }
      ]
    },
    {
      "cell_type": "markdown",
      "metadata": {
        "id": "yrN7J6v7q3xF"
      },
      "source": [
        "## Use `decode` Method to Convert to a String\n",
        "\n",
        "__Interpret a series of bytes as utf-8 using a `byte` object's `decode` method__ &rarr;\n",
        "\n",
        "* it takes a single argument\n",
        "* the encoding to use when decoding the bytes"
      ]
    },
    {
      "cell_type": "code",
      "execution_count": null,
      "metadata": {
        "id": "b3FssLByq3xF",
        "colab": {
          "base_uri": "https://localhost:8080/"
        },
        "outputId": "3d757f64-7aff-4422-fc0d-2b4058a395a8"
      },
      "outputs": [
        {
          "output_type": "stream",
          "name": "stdout",
          "text": [
            "b'hello!'\n",
            "<class 'bytes'>\n",
            "hello!\n",
            "<class 'str'>\n"
          ]
        }
      ],
      "source": [
        "b = b'hello!'\n",
        "print(b)\n",
        "print(type(b))\n",
        "s=b.decode('utf-8')\n",
        "print(s)\n",
        "print(type(s))\n",
        "# ... works as you expect!"
      ]
    },
    {
      "cell_type": "markdown",
      "metadata": {
        "id": "ri-ZATPEq3xG"
      },
      "source": [
        "## Now Let's Try utf-16\n",
        "\n",
        "__What do you think will happen if we use `utf-16` as the encoding?__\n",
        "\n",
        "```\n",
        "b.decode('utf-16')\n",
        "```"
      ]
    },
    {
      "cell_type": "code",
      "execution_count": null,
      "metadata": {
        "id": "yLz_VdZFq3xG",
        "colab": {
          "base_uri": "https://localhost:8080/",
          "height": 52
        },
        "outputId": "afb590eb-3e48-4654-b95b-981d5630f2aa"
      },
      "outputs": [
        {
          "output_type": "stream",
          "name": "stdout",
          "text": [
            "b'hello!'\n"
          ]
        },
        {
          "output_type": "execute_result",
          "data": {
            "text/plain": [
              "'敨汬Ⅿ'"
            ],
            "application/vnd.google.colaboratory.intrinsic+json": {
              "type": "string"
            }
          },
          "metadata": {},
          "execution_count": 28
        }
      ],
      "source": [
        "print(b)\n",
        "b.decode('utf-16')\n",
        "# ... how about same bytes as utf-16"
      ]
    },
    {
      "cell_type": "markdown",
      "metadata": {
        "id": "Z8iIjyPeq3xG"
      },
      "source": [
        "\n",
        "## What? Here's an actual example of utf8:\n",
        "\n",
        "First, you can find a nice [explanation on stackoverlow](https://stackoverflow.com/a/44568131).\n",
        "\n",
        "__But for now, let's check out (https://www.fileformat.info/info/unicode/char/1f602/index.htm))__ &rarr;\n"
      ]
    },
    {
      "cell_type": "markdown",
      "metadata": {
        "id": "ouQrXKq7q3xG"
      },
      "source": [
        "## ([Tears of Joy](https://www.fileformat.info/info/unicode/char/1f602/index.htm))\n",
        "\n",
        "    \n",
        "* Its unicode code point, in decimal is: `128514`\n",
        "* In binary, `128514` is `000011111011000000010` (21 bits including some 0 padding)\n",
        "* This can't be represented in a single byte or even 3 bytes in utf-8... but we can do it with 4 bytes\n",
        "* Here's the pattern for 4 bytes: `11110xxx 10xxxxxx 10xxxxxx 10xxxxxx`\n",
        "* Breaking up our binary representation of the code point to fit in the x's above, we have: `000 011111 011000 000010`\n",
        "* And, finally: `11110000 10011111 10011000 10000010`\n",
        "    "
      ]
    },
    {
      "cell_type": "code",
      "source": [
        "int(\"000011111011000000010\",2)"
      ],
      "metadata": {
        "colab": {
          "base_uri": "https://localhost:8080/"
        },
        "id": "QJ6B_WgH7Bry",
        "outputId": "879a7d13-cd00-4603-e5a5-ccb501436f03"
      },
      "execution_count": null,
      "outputs": [
        {
          "output_type": "execute_result",
          "data": {
            "text/plain": [
              "128514"
            ]
          },
          "metadata": {},
          "execution_count": 29
        }
      ]
    },
    {
      "cell_type": "markdown",
      "source": [
        "1110xxxx 10xxxxxx 10xxxxxx"
      ],
      "metadata": {
        "id": "wndNGuQbtAJk"
      }
    },
    {
      "cell_type": "markdown",
      "metadata": {
        "id": "ZIlmonPWq3xG"
      },
      "source": [
        "## Let's prove that this works...\n",
        "\n",
        "The following shows that we can encode and decode using utf-8 using the rules above.\n",
        "\n",
        "* we can do it with a little bit of Python.\n",
        "* (it's a bit much; just knowing it's _possible_ is fine)\n",
        "\n",
        "👇"
      ]
    },
    {
      "cell_type": "code",
      "execution_count": null,
      "metadata": {
        "id": "SeSxlvmzq3xG",
        "colab": {
          "base_uri": "https://localhost:8080/"
        },
        "outputId": "f8129d7f-554a-4419-d59e-d735d3228078"
      },
      "outputs": [
        {
          "output_type": "stream",
          "name": "stdout",
          "text": [
            "Tears of joy: 😂\n",
            "============\n"
          ]
        }
      ],
      "source": [
        "# here is tears of joy...\n",
        "ch = '😂'\n",
        "print(f'Tears of joy: {ch}\\n============')"
      ]
    },
    {
      "cell_type": "code",
      "execution_count": null,
      "metadata": {
        "id": "4GJtw2Uaq3xH",
        "colab": {
          "base_uri": "https://localhost:8080/"
        },
        "outputId": "77983d13-a4c3-472d-848d-a35b79dc3484"
      },
      "outputs": [
        {
          "output_type": "stream",
          "name": "stdout",
          "text": [
            "Let's see the utf-8 encoding of 😂!\n",
            "----\n",
            "code point for 😂 is: 128514\n"
          ]
        }
      ],
      "source": [
        "# let's see the code point using ord\n",
        "print(f'Let\\'s see the utf-8 encoding of {ch}!\\n----')\n",
        "\n",
        "code_point = ord(ch)\n",
        "print(f'code point for {ch} is: {code_point}')"
      ]
    },
    {
      "cell_type": "code",
      "execution_count": null,
      "metadata": {
        "id": "fX_3TGzNq3xH",
        "colab": {
          "base_uri": "https://localhost:8080/"
        },
        "outputId": "f1ce3c4f-2fb1-4a5d-8935-f6e5e7842df5"
      },
      "outputs": [
        {
          "output_type": "stream",
          "name": "stdout",
          "text": [
            "021b\n",
            "000011111011000000010\n",
            "128514 is in binary is: 000011111011000000010\n"
          ]
        }
      ],
      "source": [
        "# let's see the binary version of the code point\n",
        "\n",
        "# this format specifier, 021b, means:\n",
        "# * pad with 0's\n",
        "# * there should be 21 total characters (# of x's based on pattern)\n",
        "# * format as binary number\n",
        "format_as_padded_bin = '021b'\n",
        "print(format_as_padded_bin)\n",
        "\n",
        "# use the format specifier as nested variable in\n",
        "# format string after colon\n",
        "padded_bin = f'{code_point:{format_as_padded_bin}}'\n",
        "print(padded_bin)\n",
        "print(f'{code_point} is in binary is: {padded_bin}')"
      ]
    },
    {
      "cell_type": "markdown",
      "metadata": {
        "id": "wI5YD0wnq3xH"
      },
      "source": [
        "[Python f-strings](https://realpython.com/python-f-strings/)"
      ]
    },
    {
      "cell_type": "code",
      "execution_count": null,
      "metadata": {
        "id": "YS_TUI2wq3xH",
        "colab": {
          "base_uri": "https://localhost:8080/"
        },
        "outputId": "5e8539b9-af63-4b20-9467-36992ee92547"
      },
      "outputs": [
        {
          "output_type": "stream",
          "name": "stdout",
          "text": [
            "encoded as utf-8, in binary: 11110000100111111001100010000010\n",
            "32\n"
          ]
        }
      ],
      "source": [
        "# distribute into 4 bytes: UTF-8 FTW!\n",
        "# fill bits into the x's in the pattern below:\n",
        "# 11110xxx 10xxxxxx 10xxxxxx 10xxxxxx\n",
        "a, b, c, d = padded_bin[:3], padded_bin[3:9], padded_bin[9:15], padded_bin[15:]\n",
        "encoded = f'11110{a}10{b}10{c}10{d}'\n",
        "print(f'encoded as utf-8, in binary: {encoded}')\n",
        "print(len(encoded))"
      ]
    },
    {
      "cell_type": "code",
      "execution_count": null,
      "metadata": {
        "id": "k4LWK851q3xH",
        "colab": {
          "base_uri": "https://localhost:8080/"
        },
        "outputId": "2041d5b5-98a8-444b-b1de-be419e66a635"
      },
      "outputs": [
        {
          "output_type": "stream",
          "name": "stdout",
          "text": [
            "\n",
            "Let's go from utf-8 back to the actual character (decode), 😂\n",
            "----\n",
            "these are our bytes as strings in a list: ['11110000', '10011111', '10011000', '10000010']\n"
          ]
        }
      ],
      "source": [
        "# ok, let's test if this is encoded correctly by decoding it!\n",
        "print(f'\\nLet\\'s go from utf-8 back to the actual character (decode), {ch}\\n----')\n",
        "\n",
        "# let's turn this into a sequence of bytes, with each byte shown in binary (as a string)\n",
        "bytes_as_bin = list(encoded[i: i + 8] for i in range(0, 25, 8))\n",
        "print(f'these are our bytes as strings in a list: {bytes_as_bin}')\n"
      ]
    },
    {
      "cell_type": "code",
      "execution_count": null,
      "metadata": {
        "id": "Uvh48drUq3xH",
        "colab": {
          "base_uri": "https://localhost:8080/"
        },
        "outputId": "ae1186f0-16c9-46d6-f728-7a6f60aa0957"
      },
      "outputs": [
        {
          "output_type": "stream",
          "name": "stdout",
          "text": [
            "b'\\xf0\\x9f\\x98\\x82'\n",
            "decode those bytes to get the original character: 😂\n"
          ]
        }
      ],
      "source": [
        "# convert each string into an int, and use that to create a bytes object\n",
        "# call decode on bytes object to get back character\n",
        "# decode will decode a series of bytes using utf-8\n",
        "# (though you can specify an encoding as a keyword arg)\n",
        "b = bytes([int(i, 2) for i in bytes_as_bin])\n",
        "print(b)\n",
        "print('decode those bytes to get the original character:', b.decode(\"utf-8\"))"
      ]
    },
    {
      "cell_type": "markdown",
      "metadata": {
        "id": "tbuc5Ypsq3xH"
      },
      "source": [
        "🛑"
      ]
    },
    {
      "cell_type": "markdown",
      "metadata": {
        "id": "ZU1waNJgq3xI"
      },
      "source": [
        "## Addendum\n",
        "\n",
        "* Most of the characters in unicode (character sets from natural languages) are in the first ~65,000 code points (called the _Basic Multilingual Plane_).\n",
        "* Emoji exist above that, and typically require 4 bytes to represent."
      ]
    },
    {
      "cell_type": "markdown",
      "metadata": {
        "id": "o_-ofos-q3xI"
      },
      "source": [
        "## Other Encoding Schemes: utf-16, utf-32\n",
        "\n",
        "* If using mostly ASCII characters, then utf-8 is a great choice.\n",
        "* However, if using many characters that can only be encoded in more than one byte, utf-32 might be a better option.\n",
        "* utf-32 is a fixed width encoding that takes up four bytes per character\n"
      ]
    },
    {
      "cell_type": "markdown",
      "source": [
        "Poll Question\n",
        "\n",
        "What encoding does Python often default to?\n",
        "\n",
        "* UTF-16\n",
        "* UTF-32\n",
        "* UTF-8\n",
        "* ASCII"
      ],
      "metadata": {
        "id": "wdeEpS1446eA"
      }
    },
    {
      "cell_type": "markdown",
      "metadata": {
        "id": "uvfwe7uDq3xI"
      },
      "source": [
        "## Why use utf-8 (usually)?"
      ]
    },
    {
      "cell_type": "markdown",
      "metadata": {
        "id": "v7IOJGb-q3xI"
      },
      "source": [
        "* if most of your characters can be encoded in 1 byte; use it!\n",
        "* it saves space... (why use 4 bytes to represent `A` when you can use 1?)"
      ]
    },
    {
      "cell_type": "markdown",
      "metadata": {
        "id": "9kn-fkg4q3xI"
      },
      "source": [
        "## Why use utf-32 instead?"
      ]
    },
    {
      "cell_type": "markdown",
      "metadata": {
        "id": "nGiObphRq3xI"
      },
      "source": [
        "* if using lots of code points that require multiple bytes, it's a bit more complex decoding utf-8, since the number of bytes used per character has to be determined"
      ]
    },
    {
      "cell_type": "markdown",
      "metadata": {
        "id": "EiDTH9Okq3xI"
      },
      "source": [
        "## Why Does This Matter?\n",
        "\n",
        "__Why might knowing about encodings be useful?__ &rarr;\n"
      ]
    },
    {
      "cell_type": "markdown",
      "metadata": {
        "id": "S_mLtGuiq3xI"
      },
      "source": [
        "* ...Sometimes you source a file, but you don’t know what encoding it is!\n",
        "* (but how do you know what encoding it is?)"
      ]
    },
    {
      "cell_type": "markdown",
      "metadata": {
        "id": "Ku_LM9pfq3xJ"
      },
      "source": [
        "## Decoding a File\n",
        "\n",
        "__How might you determine the encoding of a file?__ &rarr;"
      ]
    },
    {
      "cell_type": "markdown",
      "metadata": {
        "id": "l9TGjMzDq3xJ"
      },
      "source": [
        "* If you have a series of bytes, you can decode with a scheme of your choice (utf-8, latin-1, etc.?)\n",
        "* Automatic detection of encoding is tricky! (no standard for embedding encoding a file, usually encoding not specified!)\n",
        "* Editors/viewers will use different strategies, but no guarantee guess will be right! 😮\n",
        "* btw, some tools: file and enca to guess at encoding... sublime, atom, etc. to load in different encoding\n",
        "* and, of course, Python can read files with different encodings (though default is utf-8)"
      ]
    },
    {
      "cell_type": "markdown",
      "metadata": {
        "id": "nD2HNNpJq3xJ"
      },
      "source": [
        "## Example / Mystery!\n",
        "\n",
        "Download this file in the same directory as your notebook:\n",
        "\n",
        "[https://www.gutenberg.org/files/4909/old/olavg10.txt](https://www.gutenberg.org/files/4909/old/olavg10.txt)\n",
        "\n",
        "Try to figure out how to _read_ it correctly. 🕵\n",
        "\n",
        "* open it in a text editor, what do you see?\n",
        "* reopen, but change encoding in your text editor of your choice; does that fix things?\n",
        "* note that most text editors, like VS-Code, Sublime Text and Atom, can be set to use a specific encoding\n",
        "* choose CP1251 or Windows-1251"
      ]
    },
    {
      "cell_type": "markdown",
      "metadata": {
        "id": "Klu-Eo4yq3xJ"
      },
      "source": [
        "## Examining Our Text with Python\n",
        "If you're unable to change the encoding, we can look at it with python.\n",
        "\n",
        "1. first as utf-8 (which shows us cyrillic)\n",
        "2. then as cp1251 (which causes an exception)\n"
      ]
    },
    {
      "cell_type": "code",
      "source": [
        "from google.colab import drive\n",
        "drive.mount('/content/drive')"
      ],
      "metadata": {
        "id": "_oifD0CIuQvJ",
        "colab": {
          "base_uri": "https://localhost:8080/"
        },
        "outputId": "f94c56dc-0370-4517-ef8a-1ee8310b480a"
      },
      "execution_count": null,
      "outputs": [
        {
          "output_type": "stream",
          "name": "stdout",
          "text": [
            "Mounted at /content/drive\n"
          ]
        }
      ]
    },
    {
      "cell_type": "markdown",
      "source": [],
      "metadata": {
        "id": "IG2EH3PcCyy9"
      }
    },
    {
      "cell_type": "code",
      "execution_count": null,
      "metadata": {
        "id": "52r1Jxicq3xJ",
        "colab": {
          "base_uri": "https://localhost:8080/"
        },
        "outputId": "2ce60d25-2af5-4f35-c5cd-8ec544e07a9a"
      },
      "outputs": [
        {
          "output_type": "stream",
          "name": "stdout",
          "text": [
            "\n",
            "\n",
            "\n",
            "ОЛАФ ВАН ГЕЛДЕРН\n",
            "\n",
            "Той и сам не знае кога е роден, но като го запитат, казва, че сега е на 36 години. Родното му градче, Грасдорф, е скътано в една гънка от росните поли на Харц, оная величествена планина, която лежи като мила сянка на душата му и която нему е по сърце да възпява в своите песни. Цял ред години го познавам аз, както познавам себе си, и макар помежду ни често да е минавала черна котка - ний сме си и до ден днешен интимни и добри приятели. И това, което аз зная и ще кажа за него, той сам ще го подпише.\n",
            "Олаф е издънка на видна фамилия и драго му е, дето е тъй, без да прави от това какъвто и да е капитал. Както за себе си, тъй и за фамилията, с чието име се кити, той не обича май да говори. Твърде рядко се отпуща да спомене само нещо за баща си - между другото, и как той често е натяквал, че пише нескопосни стихове, може би с омисъл така да го подсети да си учи уроците. Неговите уши са май длъжки и той обяснява това не като знак на особно благоволение на природата, а като свидетелство за особното внимание на учителите му към тях: те са ги дърпали безмилостно в надежда да измъкнат през тях упорития му мързел. Това е единствената негова печала от училището.\n",
            "Едничко, що му се е удало още през детинство, да изучи както тряба, то е отечествената география. И то по твърде прост начин. Баща му, като учител, журналист и народен трибун, е бил принуждаван (поради опърничавостта си и изключителните обстоятелства на онова време) да скита от град на град, където и жена и деца са вървели подире му. По тоя начин бъдащия поет се е запознавал пряко с всички баирища, при които тия градове са настанени, газил и къпал се е по цели дни в сума реки, а горските шубраци, скали и пещери са му дошепвали дивните приказки, с които домашните ратайкини са дразнили всяка вечер трепетното му въображение. Все от ония дни е и интимното му познанство с родното слънце; и макар че той сега се спогажда по-добре с нощта, цалувките на негова пръв интимен познайник и до днес още личат на лицето му - черно, като лице на някой фараонов потомък. Аз вярвам, че на стария ван Гелдерн ще е било драго да гледа такъв пакостник, какъвто е бил Олаф, и по него да си спомня свое!\n",
            "то детинство.\n",
            "Стария необезветвен от бурите дъб ще е усещал може би, че изникналия от семето му младок няма да го посрами с израста си; дори при сгоден случай той сам е тласкал и явно и покрито тоя му израст. Така, когато за родния край на нашия поет настанаха усилни дни (1881 год.) и баща му биде грабнат една нощ от полицейските вълци - бдители на обществения ред - и отведен на заточение, на Олафа се падна да чуе свети бащини думи: \"Кога отраснеш, бъди като баща си; не се бой от вълци!\" Но крушата беше паднала и тъй под крушата. Тя - когато и ней дойде време - показа колко е опърничава: - инак не би преседнала на толкова гърла! Като баща си, той често обича да мисли не като другите, и не само да мисли, а и говори, що му е на сърце. За неприятностите от това малко го е еня: може би защото предпочита приятността - да реже с ножът, изострен на бащино точило, и така да не пречи, а да дава свободен размах на своя натюрел. Честолюбив, той не ще и да знай, че ония, на чийто гърла пресяда, ще го!\n",
            " сметнат за самилюбец. Не е чудно и да е такъв, понеже е творец, и както всичките негови добри колеги гали в душата си звярът на отвращението към светите чувства на филистрите, към скрижалните заповеди на чичо Сноба. Бащино наследство е у него обичта му към всичко достойно за обич; а при друго едно наследство - светата злоба - нашият поет се е постарал да попритури и от себе си нещичко. Това, що изповядват обикновено хероите на словото, е и негова изповед: гневът е мерило на моята любов! И горд е той не на шега, но с шеги мисли, че добре прикрива гордостта си пред нищите духом - некадърниците да проумеят в това трагизма на тая гордост. А неговий смях и присмех над себе си е такъв добър коментар, какъвто не са дори самотността и тъмеящата понякога в погледа му меланхолия!\n",
            "С тия вродени качества и капризно развити инстинкти Олаф ван Гелдерн влачи своята световна съдба и едва ли може се каза, че не е доволен от нея. Види се, сред неприветната действителност и безсънни нощи, пълни с безпокойни мечти и кошмарни привидения, него ще спохождат нерядко и хубави сънища. А нима сънищата не са и те извор на щастие? Най-хубавият негов сън е - съня за живота му след смъртта. И орисията на досегашнния му живот като че ли някак подкрепя неговата вяра, че това не ще е само сън. Може тя да е наивна - дори твърде наивна, - нещо като вярата на Ибсеновия Хелмер, който се залъгва с блян, че е призван да извърши велико нещо на божия свят. И колко прав е един друг херой от същата Ибсенова драма - Дивата патица - с горчиво истинните думи: оставете човеку световната измама! За да го удържи в живота, койт не му е същинска майка. Тоя живот не всякога е поднасял вкусни блюда на трапезата му, както се вижда от следните няколко: - Като е прескачал веднъж плет (не след, а !\n",
            "преди двайсет-годишната си възраст, тоест не за кобилица го е прескачал), счупил е на две свирката на десния си крак; тресла го е тригодишна треска; три пъти са го влачили коне и по един път е падал от и под файтон; десетина пъти са го давили псета; веднъж се е давил; и още веднъж без малко е щял да се ожени; веднъж е измъкнат изпод вагоните на изщъпнат от релсите трен; веднъж са го гонили и пушкали подире му кървожадните прусаци (1887)... И горен, и бесен, и заравян е жив във земята. Прилича на легенда, нали? Все пак тя е действителна, както и оная на баща му, стария ван Гелдерн, когото господ е обичал, та го е орисал с легенда.\n",
            "На развитието на негова талант, освен господ с легендата си, влияли са скитанията му дома и по чужбина. Доколкото мога да съдя аз, главните станции на неговото художествено развитие са станциите на скитанията му: Виена, Париж и Лайпциг. Особено последнята, дето той си е почивал дълги години при извънредно добри стопани, гостинничари и книжари, на които още не е изплатил борчовете си. Няколко пъти се е ръкувал с Юнгфрау, оная дивна красавица, която и нему, както и на великия руски романист, е пришепвала световни тайни. Ходил е дори в белокаменната Москва - да се яви в полицията: невероятна причина за пътешествие, но колкото по-невероятна, толкова по-истинска. За немските гостинничари той и досега си спомня с особена симпатия. Най-вече за трима от тях: един елинин, един юдей и един шваба. С втория от тях поетът се е познавал заочно и от по-напред, на което обстоятелство се дължи, види се, отпослешната им интимност: - и обичта си към немците той дължи изключително нему, на блед!\n",
            "ния Хайнрих, когото немците тъй мразят, а без чийто песни поезията им би била тъй скучна! За своето умствено развитие, за уяснението на своята задача като писател той дължи премного на тези готови всякому за услуга господа, особено на швабата; но неговите поетически чувства и интереси са закърмени най-напред от руските художници на словото, които тъй победоносно шествуват сега по Европа. Онова, което ван Гелдерн изпървом инстиктивно е възприемал от тях - диренето на человека и в звяра, - вече като възмогнат певец, той сам съзнателно туря за основа на своите творения. В това е коренът на негова идеализъм: не на умът, а на сърцето рожба. Зад него е спотаена и причината на пренебрежението му към съвременни и по-отдавнашни европейски херои на перото, които дирят и ценят само звяра в человека. Но едва ли тия обични нему руски чародейци биха му въздействали тъй, ако неговата душа не би била сгодна почва за такива въздействия, ако баща му - сам техен възпитаник - не бе му оставил н!\n",
            "аследствено разположение за възприемане чувства на човещина к!\n",
            "ъм човека\n",
            "... Неговите първи опити на перото са били преводи от руските поети. И досега няколко от тях са спазени, но не се съмнявам, че и тях ще сполети участта на пълния превод на Тургеневите Записки на ловеца; защото всяка година не малко и вети и нови работи той принася жъртва на критическите си пресъди и критичните си настроения. - Той не плаче над и за тях, както Ахилес пред трупът на горящия си побратим, а само стиска зъби и в умът му танцуват глупости, които обаче твърде скоро изчезват, както и принесените жъртва.\n",
            "Олаф ван Гелдерн отдавна се е прибрал от скитанията си по чужбина, грей на домашната камина нозете си - в които ревматизма сече съчки - и се старае да живей в мир и любов със своята вярна съпруга - неволята, добра приятелка на музата му. Двете приятелки често се спохождат, и поета подслушва интимният им разговор, и не само го подслушва, но го зема за канва на творенията си, върху която въображението му шие узори с копринени нишки. \"От всички досегашни негови творения вей неприветния дъх на нерадостна концепция на живота, резултат на собствената му нерадостна съдба\" - тъй казва един негов критик. И той може би е прав. Може би - макар че сам поета е на друго мнение: Ето какво бележи той в един от пътнишките си очерки, което прилича да е лична изповед: \"Писател, който уважава себе си и своето дело, нека не престъпва прагът на никоя школа, на никое теке, в което с молитвеници в ръка са дошли да струват метани достойните за съжаление. Бъдете елини ( не византийци) на модерния свя!\n",
            "т, без никакъв катехизис за изкуството и неговите цели. Личното ви вдъхновение да е подбуда за творчество, действителността единствен предмет на наблюдения и възсъздаване. Така, и само така, възникват творения, в които реализмът върви ръка за ръка с висшите стремления на идеалния дух, както те вървят и в живота. Примера на русите е пример и за нас. Че и ние като тях имаме великото преимущество пред другите европейски народи: настоящето ни не е обвързано с миналото - и ний като тях няма защо да ангажираме за в бъдаще духът си с патологични измислици на разни декаденти на културата... Учете се от слънцето - да огрявате всичко, старайте се да проникват вред животворните ви лучи. Утешавайте с безутешното, - дето няма утеха с друго... Божествений учителю, ти творецо на Живи мощи, чийто благороден образ е образа на моя спасител! Нима ужасната съдба на онзи полутруп, когото ти си възсъздал с такава омая, не е откровение за мен? Каква симпатия към човека лъхти от разказа ти за тегло!\n",
            "то на оная неволница, която дълги години не се е дигала от св!\n",
            "оя одър-г\n",
            "роб! А все пак нея, и в това й състояние, обземат тихи възторзи и пред най-дребните проявления на живота: пред дъхът на полските цветя, пред чуроликът на лястовичките. Поезията на уединението - ти я разкри на душата ми, поръси ме с живата вода на вяра, че ще се събуди за живот онзи, на когото и чужди, и свои гледаха като на мъртвец. Светлината, която ти пръскаш над чуждата неволя, осветли моята - и прогони помрачението от егоистичните чувства, що затъмняваха погледа ми...\" На онзи, който се изповядва с такива думи, имат ли основа да му натрапват \"нерадостни концепции на живота\" А това натрапване го опровергават и самите му творения, съдбата на чийто херои, макар често и нерадостна, е възсъздадена тъй че в нашето впечатление не остава ни сянка на ужас и гнетително чувство. Душевния кризис у ван Гелдерна, разведрен под влиянието на Живи мощи от Тургенева, се изостря и пречупя с Короленкова Слепец музикант, оня злочестник, когото чуждата неволя възражда за живот, посветен на съ!\n",
            "буждане добри чувства в човешкото сърце. Но моето намерение тук не е да разправям за това, а само да отбележа неверността на един възглед за мирогледа (Lebensauffassung) на поета. Наистина той разказва най-вече нерадостни събития из живота на разни неволници, но не към тяхната външна съдба е взрян погледа му, а към онзи мир на чувства, настроения и душевни кризиси, от които не лъхти тъмния дъх на отрицание, песимизъм. Това, както и болезнения анализ на \"що става в душите\" на хероите му, най-ясно показват грамадното влияние на руските писатели върху нашия поет.\n",
            "Такъв е човекът, който от двадесетина години насам е приставен ратай у Гюрга Самовила (\"най-предня девойка\"), подобно на онова селянче, за което народната приказка разправя, че се ценило да служи у дядо попа - три години за три пари. В негова роден край, както и у нас, трудът на художника толкова чини; и мнозина херои на перото, след като са опитали сила на тоя мегдан, за да си осигурат колко-годе човешки живот, записвали са се в еснафа на хамалите. Свобода и самостоятелност - покровителите на гения - не са познайници с нашия поет, и това е една от великите негови скърби - отрова, която е убивала, още в зародиш сума негови рожби. За да не подсмърча за къшей хляб, той чиновничествува, т.е. прахосва времето си с \"работа\", която всякой идиот сто пъти по-добре от него би вършил. И температурата на неговото творчество в последно време е паднала под нула. Произведенията му, откак и той е наред с хората - не са май за пред хора; те са случайна работа, драскотене фейлетони по вестни!\n",
            "ци, преводи и автобиографически бележки, с които Олаф ван Гелдерн се мъчи да заглавика себе си и да се подиграй с наивните читатели.\n",
            "А било е време, когато сам той и неговите критици са съзирали нещо в творенията му, в онзи рой ситни песни, балади, монолози и поеми, които блещукат като хубава огърлица, изтървана случайно на някое бунище, каквото е напр. българската литература. От тия си творения сам поета е доволен - и недоволен. Доколкото мога да досетя, недоволството му не е толкова от тях, колкото от мисълта, че с тях той не е дал всичко, що може да даде; а да създаде другите, които му разпъват душата, няма необходимата за това външна охолност. И да не е съвсем тъй, все пак в цялата догадка половината е несъмнено истина.\n",
            "Коледа 1902 г.\n",
            "P.S. Когато преглеждах първата коректура на тая бележка за Олаф ван Гелдерна, получих вест, че той починал скоропостижно. Вече беше късно да променям това, що бях написал, макар че смъртта дава свобода на перото ми, и аз бих могъл още много неща да кажа, а казаните с недомлъвки да изтъкна по-ясно. Сега той преминава в другата фаза на своя живот, за която приживе бяха хубавите му сънища. На един свой събрат, жив и в смъртта, когото нашия поет е възпял, той влага в устата следните думи - несъмнено ехо на собствени интимни чувства:\n",
            "\n",
            "\"Честит е тоз избранник, чийто дух, \n",
            "като ковчега Ноев, пренесе\n",
            "от прежний свят в послешний онова,\n",
            "което е в промени непроменно.\n",
            "Той подир смърт от себе си оставя\n",
            "най-чистото, най-хубавото - жица\n",
            "от царството на сенките безплътни,\n",
            "която ще го свързва с тоя мир.\"\n",
            "\n",
            "\n",
            "\n",
            "\n"
          ]
        }
      ],
      "source": [
        "# we try to read the file with open\n",
        "# by default, it'll read it as utf-8\n",
        "# there are some invalid continuation characters\n",
        "# ... so we'll get an exception\n",
        "fn='/content/drive/My Drive/DataManagement/data_files/olavg10new.txt'\n",
        "try:\n",
        "    with open(fn,'r') as f:\n",
        "        print(f.read())\n",
        "except FileNotFoundError as e:\n",
        "    print('ERROR! please download https://www.gutenberg.org/files/4909/old/olavg10.txt into same directory as this notebook first. k thx bai.')\n",
        "except UnicodeDecodeError as e:\n",
        "    print('Cannot decode this file... we are trying utf-8, but it is not that.')\n",
        "    print(e)"
      ]
    },
    {
      "cell_type": "code",
      "execution_count": null,
      "metadata": {
        "id": "B5RRA9WHq3xJ",
        "colab": {
          "base_uri": "https://localhost:8080/"
        },
        "outputId": "e78f90fb-838a-4286-bdc2-cc6698a12b4a"
      },
      "outputs": [
        {
          "output_type": "stream",
          "name": "stdout",
          "text": [
            "a line in our text:\n",
            " ╨░╤ü╨╗╨╡╨┤╤ü╤é╨▓╨╡╨╜╨╛ ╤Ç╨░╨╖╨┐╨╛╨╗╨╛╨╢╨╡╨╜╨╕╨╡ ╨╖╨░ ╨▓╤è╨╖╨┐╤Ç╨╕╨╡╨╝╨░╨╜╨╡ ╤ç╤â╨▓╤ü╤é╨▓╨░ ╨╜╨░ ╤ç╨╛\n"
          ]
        }
      ],
      "source": [
        "# now let's use codecs.open so we can read the file with a specific encoding\n",
        "# cp1251\n",
        "# cp427\n",
        "import codecs\n",
        "try:\n",
        "    with codecs.open(fn, encoding='cp437') as f:\n",
        "        lines = f.readlines()\n",
        "        print('a line in our text:\\n', lines[15][:100])\n",
        "except FileNotFoundError as e:\n",
        "    print('ERROR!!!!!! plz download https://www.gutenberg.org/files/4909/old/olavg10.txt into same directory as this notebook first. k thx bai.')"
      ]
    }
  ],
  "metadata": {
    "kernelspec": {
      "display_name": "Python 3 (ipykernel)",
      "language": "python",
      "name": "python3"
    },
    "language_info": {
      "codemirror_mode": {
        "name": "ipython",
        "version": 3
      },
      "file_extension": ".py",
      "mimetype": "text/x-python",
      "name": "python",
      "nbconvert_exporter": "python",
      "pygments_lexer": "ipython3",
      "version": "3.8.8"
    },
    "colab": {
      "provenance": [],
      "include_colab_link": true
    }
  },
  "nbformat": 4,
  "nbformat_minor": 0
}