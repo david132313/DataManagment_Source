{
  "nbformat": 4,
  "nbformat_minor": 0,
  "metadata": {
    "colab": {
      "provenance": [],
      "include_colab_link": true
    },
    "kernelspec": {
      "name": "python3",
      "display_name": "Python 3"
    },
    "language_info": {
      "name": "python"
    }
  },
  "cells": [
    {
      "cell_type": "markdown",
      "metadata": {
        "id": "view-in-github",
        "colab_type": "text"
      },
      "source": [
        "<a href=\"https://colab.research.google.com/github/david132313/DataManagment_Source/blob/main/1_1_software.ipynb\" target=\"_parent\"><img src=\"https://colab.research.google.com/assets/colab-badge.svg\" alt=\"Open In Colab\"/></a>"
      ]
    },
    {
      "cell_type": "markdown",
      "source": [
        "## Languages for Data Management, Data Analysis, and Data Science\n",
        "\n",
        "Proprietary Options for Data Analysis\n",
        "* SAS\n",
        "* SPSS\n",
        "* Stata\n",
        "* Matlab\n",
        "* many others ...\n",
        "\n",
        "The first three are \"old-school\" statistics packages but still widely-used. Matlab is used by engineers and scientists for numerical computing, including matrix calculations.\n",
        "\n",
        "Open Source Options\n",
        "* Python\n",
        "* R\n",
        "* [Julia](https://juliadatascience.io/)\n",
        "\n",
        "Julia is very fast and is good for computationally-intensive applications. However, we won't cover it in this course.\n",
        "\n",
        "Dashboarding Options (\"Business Intelligence\")\n",
        "* [Tableau](https://www.tableau.com/)\n",
        "* Microsoft Power BI\n",
        "* Many others\n",
        "\n",
        "Dashboarding usually doesn't require much programming. Dashboarding applications (the best known of which is Tableau) are like the Excel of data science and allow end users who are not programmers to analyze data and make interactive graphs. We also won't be covering it in this class. There are NYU SPS [classes](https://www.sps.nyu.edu/professional-pathways/courses/DATA1-CE9000-visual-analytics-with-tableau.html) on data analytics that focus mainly on Tableau."
      ],
      "metadata": {
        "id": "pc1DNUU8REob"
      }
    },
    {
      "cell_type": "markdown",
      "source": [
        "## Why Python?\n",
        "\n",
        "Python has fairly quickly become the largest and most popular data science ecosystem.\n",
        "\n",
        "R is also quite popular, especially with statisticians. Some packages are available only in R, and some only in Python. But in this course we will be focusing on Python.\n",
        "\n",
        "Python data science applications typically run quickly because often the most compute-intensive aspects of modules have been implemented in C."
      ],
      "metadata": {
        "id": "SvhJemmITLCU"
      }
    },
    {
      "cell_type": "markdown",
      "source": [
        "## Python has gained much of R's functionality\n",
        "\n",
        "R is great at working with multidimensional array data. It is also great at holding and manipulating statistical tables (\"dataframes\") in memory. These are built into R.\n",
        "\n",
        "However, Python has been extended to support multidimensional arrays through the *numpy* package and dataframes through the *pandas* package. It now handles these as well as R, using these add-ons."
      ],
      "metadata": {
        "id": "dtJ5ZNJvVfEo"
      }
    },
    {
      "cell_type": "markdown",
      "source": [
        "## Anaconda and Google Colab\n",
        "\n",
        "Anaconda is the most popular Python data science enviroment. I suggest you install it on your machine unless you have some good reason to do something else. It installs a large amount of software on your machine, including Python, Jupyter Notebooks, JupyterLab, Spyder, PyCharm, and Visual Studio Code. Plus you can use it to install many other software packages.\n",
        "\n",
        "Conda is the preferred package manager for Anaconda. A package manager installs add-on software to Python, such as scikit-learn, a machine learning package, or statsmodels, a statistics package. These modules make Python extensible and give you access to many additional functions.\n",
        "\n",
        "Much of our work this semester, however, will involve the use of Google Colab, which allows you to run Jupyter Notebooks online on Google's servers for free. This is one of several such services.\n",
        "\n",
        "But occasionally you may have the need to run something locally on your machine, so it is a good idea to have Anaconda installed."
      ],
      "metadata": {
        "id": "6_6bjl0KPF9t"
      }
    },
    {
      "cell_type": "markdown",
      "source": [
        "## Environments\n",
        "\n",
        "Conda allows for the creation of environments that contain python and only specific packages. You can also select a particular version of Python to be run in a particular environment. You probably won't have much need to do this this semester; you can just use the default environment.\n",
        "\n",
        "If you did want to create an environment called \"myenv\" the following command would do it.\n",
        "\n",
        "    conda create --name myenv\n",
        "\n",
        "Subsequent commands would install packages into that environment and then activate the environment so you can use it.\n",
        "\n",
        "More detailed instructions on how to create environments can be found [here](https://docs.conda.io/projects/conda/en/latest/user-guide/tasks/manage-environments.html).\n",
        "\n",
        "Python has other approaches to create environments, including [virtualenv](https://virtualenv.pypa.io/en/latest/)\n",
        "\n",
        "Many people use containerization systems, most popularly Docker, to create isolated enviroments. These are not specific to Python but can be used with it."
      ],
      "metadata": {
        "id": "0ExBcW5zPqBF"
      }
    },
    {
      "cell_type": "markdown",
      "source": [
        "## Conda and Pip\n",
        "\n",
        "Conda is the package manager associated with Anaconda. To install Python packages in Anaconda, use the conda command. For instance, the following command installs *scikit-learn*, the most popular machine learning library for Python.\n",
        "\n",
        "    conda install scikit-learn\n",
        "\n",
        "Pip is the main other package manager for Python. It is used in a similar manner. However, the developers of anaconda prefer that you try to use conda first and only use pip if a package isn't available with conda."
      ],
      "metadata": {
        "id": "u2rUK-VIPVt7"
      }
    },
    {
      "cell_type": "markdown",
      "source": [
        "# Required Functionallity for Data Management and Analysis\n",
        "\n",
        "1. Describe real-world entities in terms of stored data\n",
        "\n",
        "2. Persistently store large datasets\n",
        "\n",
        "3. Efficiently query \\& update\n",
        ">-Must handle complex questions about data\\\n",
        ">-Must handle sophisticated updats\\\n",
        ">-Performance matters\n",
        "\n",
        "4. Easily change structure (e.g., add attributs)\n",
        "\n",
        "5. Enable simultaneous updates\n",
        "\n",
        "6. Crash recovery\n",
        "\n",
        "7. Security and integrity"
      ],
      "metadata": {
        "id": "fr9xpBpN1lAa"
      }
    },
    {
      "cell_type": "markdown",
      "source": [
        "# **Academic Integrity for this course**\n",
        "\n",
        "Anything you submit for credit is expected to be your own work\n",
        "\n",
        ">-encouraged to exchange ideas, but not detailed solutions\n",
        "\n",
        ">-we all know difference betwwn collaboration and cheating\n",
        "\n",
        ">-attempt to gain credit for work you did not do is misconduct\n"
      ],
      "metadata": {
        "id": "1IYRc2fkghKo"
      }
    }
  ]
}