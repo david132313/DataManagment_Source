{
  "cells": [
    {
      "cell_type": "markdown",
      "metadata": {
        "id": "view-in-github",
        "colab_type": "text"
      },
      "source": [
        "<a href=\"https://colab.research.google.com/github/david132313/DataManagment_Source/blob/main/1_6_functions_map_apply_lambda_filter.ipynb\" target=\"_parent\"><img src=\"https://colab.research.google.com/assets/colab-badge.svg\" alt=\"Open In Colab\"/></a>"
      ]
    },
    {
      "cell_type": "markdown",
      "metadata": {
        "id": "3fdtd34XwTpG"
      },
      "source": [
        "# Functions"
      ]
    },
    {
      "cell_type": "markdown",
      "metadata": {
        "id": "tEr-iScXwTpL"
      },
      "source": [
        "## Basic Syntax for Defining Them\n"
      ]
    },
    {
      "cell_type": "code",
      "execution_count": null,
      "metadata": {
        "id": "i5Hcis-EwTpM"
      },
      "outputs": [],
      "source": [
        "def f():\n",
        "    print('hello')"
      ]
    },
    {
      "cell_type": "markdown",
      "metadata": {
        "id": "-nAc-S2-wTpN"
      },
      "source": [
        "Result is `None` because there is nothing returned (the `print` is a side-effect)"
      ]
    },
    {
      "cell_type": "code",
      "execution_count": null,
      "metadata": {
        "colab": {
          "base_uri": "https://localhost:8080/"
        },
        "id": "EROBjXFfwTpN",
        "outputId": "fa054fa5-4b04-4d0b-9e6c-8bfd2073db51"
      },
      "outputs": [
        {
          "output_type": "stream",
          "name": "stdout",
          "text": [
            "hello\n",
            "None\n"
          ]
        }
      ],
      "source": [
        "result = f()\n",
        "print(result)"
      ]
    },
    {
      "cell_type": "markdown",
      "metadata": {
        "id": "hktA--BrwTpO"
      },
      "source": [
        "## Return\n",
        "\n",
        "__`return` does two things__\n",
        "\n",
        "* stops function execution as soon it is called (like `break` from a loop)\n",
        "* gives back value\n",
        "\n",
        "👀If there's no value returned, a function gives back `None`"
      ]
    },
    {
      "cell_type": "code",
      "execution_count": null,
      "metadata": {
        "colab": {
          "base_uri": "https://localhost:8080/"
        },
        "id": "NMFxaTdKwTpP",
        "outputId": "7eaf054f-2ee8-4ad9-845e-9af5bf41fe34"
      },
      "outputs": [
        {
          "output_type": "stream",
          "name": "stdout",
          "text": [
            "100\n"
          ]
        }
      ],
      "source": [
        "def f():\n",
        "    return 100\n",
        "    print(\"hello\")\n",
        "print(f())\n"
      ]
    },
    {
      "cell_type": "markdown",
      "metadata": {
        "id": "hPLtNaXjwTpQ"
      },
      "source": [
        "## Return Continued"
      ]
    },
    {
      "cell_type": "code",
      "execution_count": null,
      "metadata": {
        "id": "RMbaI0uTwTpQ",
        "colab": {
          "base_uri": "https://localhost:8080/"
        },
        "outputId": "23bc4218-45da-4781-dd74-f807aca5ebe7"
      },
      "outputs": [
        {
          "output_type": "stream",
          "name": "stdout",
          "text": [
            "None\n"
          ]
        }
      ],
      "source": [
        "def f(a, b):\n",
        "    result = a * b\n",
        "\n",
        "print(f(2, 3))"
      ]
    },
    {
      "cell_type": "code",
      "execution_count": null,
      "metadata": {
        "id": "oSVALH5qwTpR",
        "colab": {
          "base_uri": "https://localhost:8080/"
        },
        "outputId": "41d92d9d-67af-4d82-9c93-4b36144e77a6"
      },
      "outputs": [
        {
          "output_type": "stream",
          "name": "stdout",
          "text": [
            "6\n"
          ]
        }
      ],
      "source": [
        "def f(a, b):\n",
        "    return a * b\n",
        "\n",
        "print(f(2, 3))"
      ]
    },
    {
      "cell_type": "markdown",
      "metadata": {
        "id": "WDun-vuIwTpR"
      },
      "source": [
        "\n",
        "# Function Parameters"
      ]
    },
    {
      "cell_type": "markdown",
      "metadata": {
        "id": "dk7slpGDwTpS"
      },
      "source": [
        "## Positional Arguments\n",
        "\n",
        "__Work as you expect__"
      ]
    },
    {
      "cell_type": "code",
      "execution_count": null,
      "metadata": {
        "id": "O6DmP2PEwTpS"
      },
      "outputs": [],
      "source": [
        "def add_two(a, b):\n",
        "    return a + b"
      ]
    },
    {
      "cell_type": "markdown",
      "metadata": {
        "id": "ZNqKzB57wTpS"
      },
      "source": [
        "Calling add_two(3, 7) results in the parameter `a` being set to `3`, and the parameter `b` set to `7`"
      ]
    },
    {
      "cell_type": "code",
      "execution_count": null,
      "metadata": {
        "id": "L1CP2uLCwTpT",
        "colab": {
          "base_uri": "https://localhost:8080/"
        },
        "outputId": "54c68e55-2f71-4411-d294-40af8d7f6d28"
      },
      "outputs": [
        {
          "output_type": "execute_result",
          "data": {
            "text/plain": [
              "10"
            ]
          },
          "metadata": {},
          "execution_count": 7
        }
      ],
      "source": [
        "add_two(3,7)"
      ]
    },
    {
      "cell_type": "markdown",
      "source": [
        "**Exercise**\n",
        "\n",
        "Write a function to return the nth value in the Fibonacci sequence, given n as an input. It starts with 0,1 and each subsequent value is the sum of the previous two.\n",
        "\n",
        "If your first name begins with A through M, write an iterative version of the function. If it begins with N through Z, write a recursive version of the function."
      ],
      "metadata": {
        "id": "m-Nvfx3QNF1i"
      }
    },
    {
      "cell_type": "code",
      "source": [
        "#@title Solution by Iterative algorithm\n",
        "# when n=1, return 0\n",
        "# when n=2, return 1\n",
        "def fib1(n):\n",
        "  if n==1: return 0\n",
        "  if n==2: return 1\n",
        "  x, y = 0,1\n",
        "  for i in range(n-1):\n",
        "    x,y=y,x+y\n",
        "  return x\n",
        "\n",
        "print(fib1(8))"
      ],
      "metadata": {
        "id": "kIcU2IdZplmS",
        "colab": {
          "base_uri": "https://localhost:8080/"
        },
        "outputId": "3124d425-268b-478b-cd23-41bdc4fb3a1c"
      },
      "execution_count": null,
      "outputs": [
        {
          "output_type": "stream",
          "name": "stdout",
          "text": [
            "13\n"
          ]
        }
      ]
    },
    {
      "cell_type": "code",
      "source": [
        "#@title Solution by Recursive algorithm\n",
        "def fib2(n):\n",
        "  if n in [1,2]:\n",
        "    return n-1\n",
        "  else:\n",
        "    return fib2(n-1) + fib2(n-2)\n",
        "\n",
        "\n",
        "print(fib2(8))"
      ],
      "metadata": {
        "id": "Rb4DWCuMLdw5"
      },
      "execution_count": null,
      "outputs": []
    },
    {
      "cell_type": "markdown",
      "metadata": {
        "id": "S0QZOrriwTpU"
      },
      "source": [
        "## \"Variadic\" functions (Variable Number of Arguments)\n",
        "\n",
        "Use * before an argument name to collect all positional arguments into single parameter:\n",
        "\n",
        "* parameter name can be whatever you want, but `args` is a commonly used name\n",
        "* resulting value of that parameter is a `tuple` containing all arguments\n",
        "* if there are additional positional, required arguments, then `*args` must go last\n",
        "* inspired by other, older Unix tools like the C shell which have a similar mechanism\n"
      ]
    },
    {
      "cell_type": "markdown",
      "metadata": {
        "id": "3KycABarwTpU"
      },
      "source": [
        "## An Example of Arbitrary Number of Arguments"
      ]
    },
    {
      "cell_type": "code",
      "execution_count": null,
      "metadata": {
        "id": "9ba5jFg3wTpU"
      },
      "outputs": [],
      "source": [
        "def sum_all(*args):\n",
        "    print(args)\n",
        "    print(type(args))\n",
        "    total = 0\n",
        "    for arg in args:\n",
        "        total += arg\n",
        "    return total"
      ]
    },
    {
      "cell_type": "code",
      "execution_count": null,
      "metadata": {
        "id": "aImC0QLUwTpU",
        "colab": {
          "base_uri": "https://localhost:8080/"
        },
        "outputId": "92306f7a-58a8-4ad2-b3fd-7950e9db5da7"
      },
      "outputs": [
        {
          "output_type": "stream",
          "name": "stdout",
          "text": [
            "(1, 2, 3, 4, 5, 6)\n",
            "<class 'tuple'>\n",
            "21\n"
          ]
        }
      ],
      "source": [
        "result = sum_all(1, 2, 3, 4, 5, 6)\n",
        "print(result)"
      ]
    },
    {
      "cell_type": "markdown",
      "metadata": {
        "id": "gh0bQgbrwTpV"
      },
      "source": [
        "## *args\n",
        "\n",
        "* note that the parameter's type is a tuple\n",
        "* it holds all values passed in as a tuple\n",
        "* (even if no arguments are passed in)"
      ]
    },
    {
      "cell_type": "code",
      "execution_count": null,
      "metadata": {
        "id": "SZkZhCh0wTpV",
        "colab": {
          "base_uri": "https://localhost:8080/"
        },
        "outputId": "7565bea9-d84e-40e5-a4dd-e8cebde775dd"
      },
      "outputs": [
        {
          "output_type": "stream",
          "name": "stdout",
          "text": [
            "(1, 2, 3, 4, 5)\n",
            "<class 'tuple'>\n"
          ]
        },
        {
          "output_type": "execute_result",
          "data": {
            "text/plain": [
              "15"
            ]
          },
          "metadata": {},
          "execution_count": 11
        }
      ],
      "source": [
        "sum_all(1, 2, 3, 4, 5)"
      ]
    },
    {
      "cell_type": "code",
      "execution_count": null,
      "metadata": {
        "id": "E-QhRNjIwTpV",
        "colab": {
          "base_uri": "https://localhost:8080/"
        },
        "outputId": "6f878b4f-872f-48a4-f146-ce89beaf98fa"
      },
      "outputs": [
        {
          "output_type": "stream",
          "name": "stdout",
          "text": [
            "()\n",
            "<class 'tuple'>\n"
          ]
        },
        {
          "output_type": "execute_result",
          "data": {
            "text/plain": [
              "0"
            ]
          },
          "metadata": {},
          "execution_count": 12
        }
      ],
      "source": [
        "sum_all()"
      ]
    },
    {
      "cell_type": "markdown",
      "source": [
        "## **Problem**\n",
        "\n",
        "Write a function that takes an arbitrary number of strings as arguments and joins them into a single string with spaces as delimiters.\n"
      ],
      "metadata": {
        "id": "3k-jT_21Bkf3"
      }
    },
    {
      "cell_type": "code",
      "source": [
        "#@title Solution\n",
        "def joinStr(*args):\n",
        "  return \" \".join(args)\n",
        "\n",
        "print(joinStr('apple','orange','peach'))"
      ],
      "metadata": {
        "id": "VD4GAJvULYz4",
        "colab": {
          "base_uri": "https://localhost:8080/"
        },
        "outputId": "15b78282-350f-46c5-f879-f7f2d71129e0"
      },
      "execution_count": null,
      "outputs": [
        {
          "output_type": "stream",
          "name": "stdout",
          "text": [
            "apple orange peach\n"
          ]
        }
      ]
    },
    {
      "cell_type": "markdown",
      "metadata": {
        "id": "ued9eUM9wTpV"
      },
      "source": [
        "## Required Positional Arguments, Then Arbitrary Arguments"
      ]
    },
    {
      "cell_type": "code",
      "execution_count": null,
      "metadata": {
        "id": "adtkRCSzwTpW"
      },
      "outputs": [],
      "source": [
        "def sum_all(a, b, *args):\n",
        "    print(args)\n",
        "    print(type(args))\n",
        "    total = a + b\n",
        "    for arg in args:\n",
        "        total += arg\n",
        "    return total"
      ]
    },
    {
      "cell_type": "code",
      "execution_count": null,
      "metadata": {
        "id": "ihSNUR8dwTpW",
        "colab": {
          "base_uri": "https://localhost:8080/"
        },
        "outputId": "a42561d9-b343-487f-a38d-a6605be9d5c4"
      },
      "outputs": [
        {
          "output_type": "stream",
          "name": "stdout",
          "text": [
            "(3, 4, 5)\n",
            "<class 'tuple'>\n"
          ]
        },
        {
          "output_type": "execute_result",
          "data": {
            "text/plain": [
              "15"
            ]
          },
          "metadata": {},
          "execution_count": 15
        }
      ],
      "source": [
        "sum_all(1, 2, 3, 4, 5)"
      ]
    },
    {
      "cell_type": "markdown",
      "metadata": {
        "id": "D9PHw1H4wTpW"
      },
      "source": [
        "## If They're Required...\n",
        "\n",
        "What happens if no arguments are passed in?"
      ]
    },
    {
      "cell_type": "code",
      "execution_count": null,
      "metadata": {
        "id": "EDQQZcUmwTpW",
        "colab": {
          "base_uri": "https://localhost:8080/"
        },
        "outputId": "871c992b-86f2-4c24-9eb8-12d53152812f"
      },
      "outputs": [
        {
          "output_type": "stream",
          "name": "stdout",
          "text": [
            "error: sum_all() missing 2 required positional arguments: 'a' and 'b'\n"
          ]
        }
      ],
      "source": [
        "try:\n",
        "    sum_all()\n",
        "except TypeError as e:\n",
        "    print('error:', e)"
      ]
    },
    {
      "cell_type": "markdown",
      "metadata": {
        "id": "Nt7G2r9-wTpW"
      },
      "source": [
        "## Unpacking Iterable into Arguments\n",
        "\n",
        "In the context of a function call, `*` breaks up an iterable object, like a list or tuple, into separate arguments."
      ]
    },
    {
      "cell_type": "code",
      "execution_count": null,
      "metadata": {
        "id": "JEPcYFNkwTpW",
        "colab": {
          "base_uri": "https://localhost:8080/"
        },
        "outputId": "eacad403-ec0f-4100-b729-f8f03a92ad81"
      },
      "outputs": [
        {
          "output_type": "stream",
          "name": "stdout",
          "text": [
            "['foo', 'bar', 'baz']\n",
            "foo bar baz\n",
            "foo bar baz\n"
          ]
        }
      ],
      "source": [
        "words = ['foo', 'bar', 'baz']\n",
        "print(words)\n",
        "print(*words)\n",
        "\n",
        "print('foo','bar','baz')"
      ]
    },
    {
      "cell_type": "code",
      "execution_count": null,
      "metadata": {
        "id": "MoKNihEkwTpX",
        "colab": {
          "base_uri": "https://localhost:8080/"
        },
        "outputId": "262ad97f-c28a-4b8e-a5c1-3323f9c6f59b"
      },
      "outputs": [
        {
          "output_type": "stream",
          "name": "stdout",
          "text": [
            "(9, 9, 9)\n",
            "<class 'tuple'>\n",
            "30\n",
            "(9, 9, 9)\n",
            "<class 'tuple'>\n",
            "30\n"
          ]
        }
      ],
      "source": [
        "nines=[9,9,9]\n",
        "print(sum_all(1,2,*nines))\n",
        "print(sum_all(1,2,9,9,9))"
      ]
    },
    {
      "cell_type": "code",
      "execution_count": null,
      "metadata": {
        "id": "T65CnNWpwTpX",
        "colab": {
          "base_uri": "https://localhost:8080/"
        },
        "outputId": "22f439e6-4563-4db0-9ce2-77127e2e6725"
      },
      "outputs": [
        {
          "output_type": "stream",
          "name": "stdout",
          "text": [
            "([9, 9, 9],)\n",
            "<class 'tuple'>\n",
            "error: unsupported operand type(s) for +=: 'int' and 'list'\n"
          ]
        }
      ],
      "source": [
        "try:\n",
        "    sum_all(1,2,nines)\n",
        "except TypeError as e:\n",
        "    print('error:', e)"
      ]
    },
    {
      "cell_type": "markdown",
      "metadata": {
        "id": "mvy1X7vgwTpX"
      },
      "source": [
        "## Default Values / Keyword Arguments\n",
        "\n",
        "Keyword arguments can be given in any order"
      ]
    },
    {
      "cell_type": "code",
      "execution_count": null,
      "metadata": {
        "id": "z4U-_kYIwTpX"
      },
      "outputs": [],
      "source": [
        "# n is the default value, but can be set to something else\n",
        "def shout(n=3):\n",
        "    return 'hello' + n * '!'"
      ]
    },
    {
      "cell_type": "code",
      "execution_count": null,
      "metadata": {
        "id": "O8g2RtANwTpX",
        "colab": {
          "base_uri": "https://localhost:8080/"
        },
        "outputId": "772f6d33-3304-46b9-d7eb-d40bdd76d1d6"
      },
      "outputs": [
        {
          "output_type": "stream",
          "name": "stdout",
          "text": [
            "hello!!!\n"
          ]
        }
      ],
      "source": [
        "print(shout())"
      ]
    },
    {
      "cell_type": "code",
      "execution_count": null,
      "metadata": {
        "id": "E_BGCeBhwTpX",
        "colab": {
          "base_uri": "https://localhost:8080/"
        },
        "outputId": "bff32528-a110-4483-c167-971dcdee6c74"
      },
      "outputs": [
        {
          "output_type": "stream",
          "name": "stdout",
          "text": [
            "hello!!!!!!!!!!!!!!!!!!!!!!!!!!!!!!\n"
          ]
        }
      ],
      "source": [
        "print(shout(n=30))"
      ]
    },
    {
      "cell_type": "code",
      "execution_count": null,
      "metadata": {
        "id": "KsSNQPTrwTpY"
      },
      "outputs": [],
      "source": [
        "def greet(fn=\"John\",mn=\"Quincy\",ln=\"Adams\"):\n",
        "    print(\"Hello\", fn)\n",
        "    print(\"Your middle name is\", mn)\n",
        "    print(\"Your full name is\",fn,mn,ln)\n",
        "    return"
      ]
    },
    {
      "cell_type": "code",
      "execution_count": null,
      "metadata": {
        "id": "CY8fWfFvwTpY",
        "colab": {
          "base_uri": "https://localhost:8080/"
        },
        "outputId": "60ef8e77-ceaa-41a8-d1dc-64fd092ab3ba"
      },
      "outputs": [
        {
          "output_type": "stream",
          "name": "stdout",
          "text": [
            "Hello John\n",
            "Your middle name is Quincy\n",
            "Your full name is John Quincy Adams\n"
          ]
        }
      ],
      "source": [
        "greet()"
      ]
    },
    {
      "cell_type": "code",
      "execution_count": null,
      "metadata": {
        "id": "bgwJaW4VwTpY",
        "colab": {
          "base_uri": "https://localhost:8080/"
        },
        "outputId": "77a5ad0d-a291-46c7-d1b9-db60a5a59b2c"
      },
      "outputs": [
        {
          "output_type": "stream",
          "name": "stdout",
          "text": [
            "Hello James\n",
            "Your middle name is Earl\n",
            "Your full name is James Earl Jones\n"
          ]
        }
      ],
      "source": [
        "greet(mn=\"Earl\",ln=\"Jones\",fn=\"James\")"
      ]
    },
    {
      "cell_type": "code",
      "execution_count": null,
      "metadata": {
        "id": "kiTbdYebwTpY",
        "colab": {
          "base_uri": "https://localhost:8080/"
        },
        "outputId": "56ac2a39-a4e9-4b1c-ede0-f2ef623c5c24"
      },
      "outputs": [
        {
          "output_type": "stream",
          "name": "stdout",
          "text": [
            "Hello James\n",
            "Your middle name is Earl\n",
            "Your full name is James Earl Jones\n"
          ]
        }
      ],
      "source": [
        "# if names aren't specified uses order\n",
        "greet(\"James\",\"Earl\",\"Jones\")"
      ]
    },
    {
      "cell_type": "markdown",
      "metadata": {
        "id": "UeOjm1WkwTpY"
      },
      "source": [
        "## An Arbitrary Number of Keyword Arguments\n",
        "\n",
        "__...Are collected into a dictionary__"
      ]
    },
    {
      "cell_type": "code",
      "execution_count": null,
      "metadata": {
        "id": "K6X0TqSswTpY"
      },
      "outputs": [],
      "source": [
        "def g(**kwargs):\n",
        "    print(kwargs)"
      ]
    },
    {
      "cell_type": "code",
      "execution_count": null,
      "metadata": {
        "id": "nKpHt_aJwTpZ",
        "colab": {
          "base_uri": "https://localhost:8080/"
        },
        "outputId": "b6b9d9a5-a7ae-4d60-8afd-0004c9e2325a"
      },
      "outputs": [
        {
          "output_type": "stream",
          "name": "stdout",
          "text": [
            "{'a': 1, 'b': 2, 'c': 3}\n"
          ]
        }
      ],
      "source": [
        "g(a=1, b=2, c=3)"
      ]
    },
    {
      "cell_type": "markdown",
      "metadata": {
        "id": "yqVMR-t0wTpZ"
      },
      "source": [
        "## Everything Together"
      ]
    },
    {
      "cell_type": "code",
      "execution_count": null,
      "metadata": {
        "id": "QMzrU3DrwTpZ"
      },
      "outputs": [],
      "source": [
        "def crazy(a, b, *args, **kwargs):\n",
        "    print(a, b, args, kwargs)"
      ]
    },
    {
      "cell_type": "code",
      "execution_count": null,
      "metadata": {
        "id": "0NKVPwQxwTpZ",
        "colab": {
          "base_uri": "https://localhost:8080/"
        },
        "outputId": "6ca4b510-a157-40fb-986c-8d7fda6e1d64"
      },
      "outputs": [
        {
          "output_type": "stream",
          "name": "stdout",
          "text": [
            "1 2 (3, 4) {'y': 2, 'z': 1}\n"
          ]
        }
      ],
      "source": [
        "crazy(1, 2, 3, 4, y=2, z=1)"
      ]
    },
    {
      "cell_type": "code",
      "execution_count": null,
      "metadata": {
        "id": "jnCast2NwTpZ"
      },
      "outputs": [],
      "source": [
        "def greet2(**kwargs):\n",
        "    print(\"Hello\", kwargs[\"fn\"])\n",
        "    print(\"Your middle name is\", kwargs[\"mn\"])\n",
        "    print(\"Your full name is\",kwargs[\"fn\"],kwargs[\"mn\"],kwargs[\"ln\"])\n",
        "    return"
      ]
    },
    {
      "cell_type": "code",
      "execution_count": null,
      "metadata": {
        "id": "xDpLPHU0wTpZ",
        "colab": {
          "base_uri": "https://localhost:8080/"
        },
        "outputId": "bbe44930-d80a-4413-ddc0-0be39330ca10"
      },
      "outputs": [
        {
          "output_type": "stream",
          "name": "stdout",
          "text": [
            "Hello James\n",
            "Your middle name is Earl\n",
            "Your full name is James Earl Jones\n"
          ]
        }
      ],
      "source": [
        "greet2(fn=\"James\",mn=\"Earl\",ln=\"Jones\")"
      ]
    },
    {
      "cell_type": "code",
      "execution_count": null,
      "metadata": {
        "id": "srPve9HKwTpZ",
        "colab": {
          "base_uri": "https://localhost:8080/"
        },
        "outputId": "629e3f02-9299-4243-be10-e78a885401bf"
      },
      "outputs": [
        {
          "output_type": "stream",
          "name": "stdout",
          "text": [
            "Hello James\n",
            "Your middle name is Earl\n",
            "Your full name is James Earl Jones\n"
          ]
        }
      ],
      "source": [
        "greet2(mn=\"Earl\",fn=\"James\",ln=\"Jones\",misc=\"Foo\")"
      ]
    },
    {
      "cell_type": "markdown",
      "metadata": {
        "id": "RzOmAaV7wTpZ"
      },
      "source": [
        "## Functions as Arguments"
      ]
    },
    {
      "cell_type": "code",
      "execution_count": null,
      "metadata": {
        "id": "r23tJokxwTpa"
      },
      "outputs": [],
      "source": [
        "def addone(x):\n",
        "    return x+1"
      ]
    },
    {
      "cell_type": "code",
      "execution_count": null,
      "metadata": {
        "id": "bT4Gu8axwTpa",
        "colab": {
          "base_uri": "https://localhost:8080/"
        },
        "outputId": "2b5d890e-3ff9-4b70-be3c-3ffb38683354"
      },
      "outputs": [
        {
          "output_type": "execute_result",
          "data": {
            "text/plain": [
              "6"
            ]
          },
          "metadata": {},
          "execution_count": 4
        }
      ],
      "source": [
        "addone(5)"
      ]
    },
    {
      "cell_type": "code",
      "execution_count": null,
      "metadata": {
        "id": "wrQkHp1EwTpa"
      },
      "outputs": [],
      "source": [
        "l=[1,2,3,4,5,6]"
      ]
    },
    {
      "cell_type": "markdown",
      "metadata": {
        "id": "57gRW2ISwTpa"
      },
      "source": [
        "map: apply function to every item of a list and return list of returned values"
      ]
    },
    {
      "cell_type": "code",
      "execution_count": null,
      "metadata": {
        "id": "vI3mp_SXwTpa",
        "colab": {
          "base_uri": "https://localhost:8080/"
        },
        "outputId": "49e8283e-d9ba-47a4-f6d9-1410f2427a11"
      },
      "outputs": [
        {
          "output_type": "stream",
          "name": "stdout",
          "text": [
            "<map object at 0x7997ec8175e0>\n"
          ]
        }
      ],
      "source": [
        "print(map(addone,l))"
      ]
    },
    {
      "cell_type": "code",
      "execution_count": null,
      "metadata": {
        "id": "03Ykh-EswTpa",
        "colab": {
          "base_uri": "https://localhost:8080/"
        },
        "outputId": "a5d2cf05-8be7-46e3-e335-02d10010df3b"
      },
      "outputs": [
        {
          "output_type": "execute_result",
          "data": {
            "text/plain": [
              "[2, 3, 4, 5, 6, 7]"
            ]
          },
          "metadata": {},
          "execution_count": 9
        }
      ],
      "source": [
        "list(map(addone,l))"
      ]
    },
    {
      "cell_type": "markdown",
      "source": [
        "**Exercise**\n",
        "\n",
        "Write a function that takes an arbitrary number of strings as arguments and returns their total length. Do not use a loop; rather, use map."
      ],
      "metadata": {
        "id": "ahKxk4vcQu4V"
      }
    },
    {
      "cell_type": "code",
      "source": [
        "def length(*args):\n",
        "  return sum(map(len, args))\n",
        "\n",
        "print(length('apple', 'pear', 'coconut')) # output: 5+4+7"
      ],
      "metadata": {
        "id": "qsbiJ9rfvPqJ",
        "colab": {
          "base_uri": "https://localhost:8080/"
        },
        "outputId": "0190e29a-859f-4bee-8c3b-58f0d5c0b67b"
      },
      "execution_count": null,
      "outputs": [
        {
          "output_type": "stream",
          "name": "stdout",
          "text": [
            "16\n"
          ]
        }
      ]
    },
    {
      "cell_type": "markdown",
      "metadata": {
        "id": "F_LUMzmxwTpb"
      },
      "source": [
        "## Lambdas: Anonymous (Unnamed) Functions, Usually Short\n",
        "### Originally implemented by Lisp"
      ]
    },
    {
      "cell_type": "code",
      "execution_count": null,
      "metadata": {
        "id": "qMSC8qs6wTpb"
      },
      "outputs": [],
      "source": [
        "addone_v2=lambda x: x+1"
      ]
    },
    {
      "cell_type": "code",
      "execution_count": null,
      "metadata": {
        "id": "grDL6XOzwTpb",
        "colab": {
          "base_uri": "https://localhost:8080/"
        },
        "outputId": "ab92f489-348d-410c-a0f7-d8d9954c32b9"
      },
      "outputs": [
        {
          "output_type": "execute_result",
          "data": {
            "text/plain": [
              "6"
            ]
          },
          "metadata": {},
          "execution_count": 41
        }
      ],
      "source": [
        "addone_v2(5)"
      ]
    },
    {
      "cell_type": "code",
      "source": [
        "l"
      ],
      "metadata": {
        "colab": {
          "base_uri": "https://localhost:8080/"
        },
        "id": "ABND1TPL-DP3",
        "outputId": "89f3fa25-6f0f-4111-b666-b9c1c07c32dc"
      },
      "execution_count": null,
      "outputs": [
        {
          "output_type": "execute_result",
          "data": {
            "text/plain": [
              "[1, 2, 3, 4, 5, 6]"
            ]
          },
          "metadata": {},
          "execution_count": 42
        }
      ]
    },
    {
      "cell_type": "code",
      "execution_count": null,
      "metadata": {
        "id": "JJfvtvrpwTpb",
        "colab": {
          "base_uri": "https://localhost:8080/"
        },
        "outputId": "8038ed21-53a3-49c6-c943-f0f72823bbaf"
      },
      "outputs": [
        {
          "output_type": "execute_result",
          "data": {
            "text/plain": [
              "[2, 3, 4, 5, 6, 7]"
            ]
          },
          "metadata": {},
          "execution_count": 43
        }
      ],
      "source": [
        "list(map(addone_v2,l))"
      ]
    },
    {
      "cell_type": "code",
      "execution_count": null,
      "metadata": {
        "id": "hDo3dW-0wTpb",
        "colab": {
          "base_uri": "https://localhost:8080/"
        },
        "outputId": "c5704b70-910a-4256-8d98-42de254ab5fa"
      },
      "outputs": [
        {
          "output_type": "execute_result",
          "data": {
            "text/plain": [
              "[2, 3, 4, 5, 6, 7]"
            ]
          },
          "metadata": {},
          "execution_count": 44
        }
      ],
      "source": [
        "list(map(lambda x:x+1,l))"
      ]
    },
    {
      "cell_type": "markdown",
      "source": [
        "### **Problem**:\n",
        "\n",
        "write a function that takes a variable number of strings as parameters and returns a single string with all the strings capitalized and concatenated, with spaces as delimiters. For instance, if the function is cap_and_join and it is called as follows:\n",
        "\n",
        "```\n",
        "cap_and_join(\"hello\",\"there\",\"everyone\")\n",
        "```\n",
        "\n",
        "it should return \"Hello There Everyone\". Use lambda, map, and join; do not use a loop.\n",
        "\n",
        "\n"
      ],
      "metadata": {
        "id": "hl9DJz3IVte6"
      }
    },
    {
      "cell_type": "code",
      "source": [
        "#@title Solution\n",
        "def cap_and_join(*args):\n",
        "  return \" \".join(map(lambda s:s.capitalize(),args))\n",
        "\n",
        "print(cap_and_join(\"hello\",\"there\",\"everyone\"))"
      ],
      "metadata": {
        "id": "ZQnc_DLsyD5J"
      },
      "execution_count": null,
      "outputs": []
    },
    {
      "cell_type": "markdown",
      "metadata": {
        "id": "chGPEH17wTpb"
      },
      "source": [
        "## Filter: Apply a Boolean Filter to a Sequence\n",
        "\n",
        "The filter() function selects elements from an iterable (list, tuple etc.) based on the output of a function."
      ]
    },
    {
      "cell_type": "code",
      "execution_count": null,
      "metadata": {
        "id": "ZaHX1baQwTpc",
        "colab": {
          "base_uri": "https://localhost:8080/"
        },
        "outputId": "b377aa85-3d46-43d5-b670-d6d5b511421f"
      },
      "outputs": [
        {
          "output_type": "stream",
          "name": "stdout",
          "text": [
            "[1, 2, 3, 4, 5, 6]\n",
            "<filter object at 0x7a2c66823520>\n"
          ]
        },
        {
          "output_type": "execute_result",
          "data": {
            "text/plain": [
              "[2, 4, 6]"
            ]
          },
          "metadata": {},
          "execution_count": 46
        }
      ],
      "source": [
        "print(l)\n",
        "even=filter(lambda n: n%2 == 0, l)\n",
        "print(even)\n",
        "\n",
        "list(even)\n"
      ]
    },
    {
      "cell_type": "code",
      "execution_count": null,
      "metadata": {
        "id": "9ZxzXR6dwTpc",
        "colab": {
          "base_uri": "https://localhost:8080/"
        },
        "outputId": "c94f852f-04a0-475e-ce2f-8ed4080c1f4c"
      },
      "outputs": [
        {
          "output_type": "execute_result",
          "data": {
            "text/plain": [
              "[1, 3, 5]"
            ]
          },
          "metadata": {},
          "execution_count": 47
        }
      ],
      "source": [
        "odd=filter(lambda n: n%2 == 1, l)\n",
        "list(odd)"
      ]
    },
    {
      "cell_type": "markdown",
      "metadata": {
        "id": "Mk8XlSBJwTpc"
      },
      "source": [
        "## Reduce: Repeatedly Apply a Function to a Sequence\n",
        "\n",
        "The reduce(fun,seq) function is used to apply a particular function passed in its argument to all of the list elements mentioned in the sequence passed along.This function is defined in “functools” module."
      ]
    },
    {
      "cell_type": "code",
      "execution_count": null,
      "metadata": {
        "id": "Vn3a7D7twTpc"
      },
      "outputs": [],
      "source": [
        "from functools import reduce"
      ]
    },
    {
      "cell_type": "code",
      "execution_count": null,
      "metadata": {
        "id": "X8eULvFCwTpc",
        "colab": {
          "base_uri": "https://localhost:8080/"
        },
        "outputId": "dda771b2-d11d-4b50-d712-8721852d8153"
      },
      "outputs": [
        {
          "output_type": "stream",
          "name": "stdout",
          "text": [
            "[1, 2, 3, 4, 5, 6]\n",
            "21\n"
          ]
        }
      ],
      "source": [
        "print(l)\n",
        "sum = reduce(lambda x,y: x+y, l)\n",
        "print(sum)"
      ]
    },
    {
      "cell_type": "markdown",
      "source": [
        "### **Exercise:**\n",
        "\n",
        "Use reduce and lambda to implement the factorial function.\n",
        "\n",
        "n!=1\\*2\\*3...*n"
      ],
      "metadata": {
        "id": "y2G2rSNGsTVc"
      }
    },
    {
      "cell_type": "code",
      "source": [
        "#@title Solution\n",
        "def factorial(n):\n",
        "  return reduce(lambda x,y: x*y, list(range(1,n+1)))\n",
        "\n",
        "factorial(6)"
      ],
      "metadata": {
        "colab": {
          "base_uri": "https://localhost:8080/"
        },
        "id": "T0E2AclnsalL",
        "outputId": "8359cafc-8e72-4f84-fcc1-1bd7f54fcac4"
      },
      "execution_count": null,
      "outputs": [
        {
          "output_type": "execute_result",
          "data": {
            "text/plain": [
              "720"
            ]
          },
          "metadata": {},
          "execution_count": 12
        }
      ]
    }
  ],
  "metadata": {
    "kernelspec": {
      "display_name": "Python 3",
      "language": "python",
      "name": "python3"
    },
    "language_info": {
      "codemirror_mode": {
        "name": "ipython",
        "version": 3
      },
      "file_extension": ".py",
      "mimetype": "text/x-python",
      "name": "python",
      "nbconvert_exporter": "python",
      "pygments_lexer": "ipython3",
      "version": "3.8.5"
    },
    "colab": {
      "provenance": [],
      "include_colab_link": true
    }
  },
  "nbformat": 4,
  "nbformat_minor": 0
}